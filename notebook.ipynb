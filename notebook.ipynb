{
  "cells": [
    {
      "cell_type": "markdown",
      "metadata": {
        "id": "view-in-github",
        "colab_type": "text"
      },
      "source": [
        "<a href=\"https://colab.research.google.com/github/Aquib405/Student-Marks-Prediction/blob/main/notebook.ipynb\" target=\"_parent\"><img src=\"https://colab.research.google.com/assets/colab-badge.svg\" alt=\"Open In Colab\"/></a>"
      ]
    },
    {
      "cell_type": "markdown",
      "id": "5693bd16",
      "metadata": {
        "id": "5693bd16"
      },
      "source": [
        "# Student Performance in Exams"
      ]
    },
    {
      "cell_type": "markdown",
      "id": "ea5b5761",
      "metadata": {
        "id": "ea5b5761"
      },
      "source": [
        "### Importing the libraries and dataset"
      ]
    },
    {
      "cell_type": "code",
      "execution_count": 5,
      "id": "b78c170c",
      "metadata": {
        "ExecuteTime": {
          "end_time": "2021-05-26T11:41:07.068677Z",
          "start_time": "2021-05-26T11:41:04.093846Z"
        },
        "execution": {
          "iopub.execute_input": "2021-05-18T08:06:33.363306Z",
          "iopub.status.busy": "2021-05-18T08:06:33.361447Z",
          "iopub.status.idle": "2021-05-18T08:06:34.352410Z",
          "shell.execute_reply": "2021-05-18T08:06:34.350961Z"
        },
        "papermill": {
          "duration": 1.038643,
          "end_time": "2021-05-18T08:06:34.352740",
          "exception": false,
          "start_time": "2021-05-18T08:06:33.314097",
          "status": "completed"
        },
        "tags": [],
        "id": "b78c170c"
      },
      "outputs": [],
      "source": [
        "import numpy as np\n",
        "import matplotlib.pyplot as plt\n",
        "%matplotlib inline\n",
        "import seaborn as sns\n",
        "import pandas as pd"
      ]
    },
    {
      "cell_type": "code",
      "execution_count": 6,
      "id": "8038ac5d",
      "metadata": {
        "ExecuteTime": {
          "end_time": "2021-05-26T11:41:07.099684Z",
          "start_time": "2021-05-26T11:41:07.071700Z"
        },
        "execution": {
          "iopub.execute_input": "2021-05-18T08:06:34.445319Z",
          "iopub.status.busy": "2021-05-18T08:06:34.444577Z",
          "iopub.status.idle": "2021-05-18T08:06:34.466806Z",
          "shell.execute_reply": "2021-05-18T08:06:34.466174Z"
        },
        "papermill": {
          "duration": 0.070221,
          "end_time": "2021-05-18T08:06:34.466964",
          "exception": false,
          "start_time": "2021-05-18T08:06:34.396743",
          "status": "completed"
        },
        "tags": [],
        "id": "8038ac5d"
      },
      "outputs": [],
      "source": [
        "df=pd.read_csv(\"data.csv\")"
      ]
    },
    {
      "cell_type": "code",
      "execution_count": 7,
      "id": "3ab1cd6d",
      "metadata": {
        "ExecuteTime": {
          "end_time": "2021-05-26T11:41:07.146664Z",
          "start_time": "2021-05-26T11:41:07.104672Z"
        },
        "execution": {
          "iopub.execute_input": "2021-05-18T08:06:34.639991Z",
          "iopub.status.busy": "2021-05-18T08:06:34.639285Z",
          "iopub.status.idle": "2021-05-18T08:06:34.660608Z",
          "shell.execute_reply": "2021-05-18T08:06:34.659965Z"
        },
        "papermill": {
          "duration": 0.075445,
          "end_time": "2021-05-18T08:06:34.660767",
          "exception": false,
          "start_time": "2021-05-18T08:06:34.585322",
          "status": "completed"
        },
        "tags": [],
        "colab": {
          "base_uri": "https://localhost:8080/",
          "height": 268
        },
        "id": "3ab1cd6d",
        "outputId": "9c3c796a-4db6-4a17-a4b4-215731bd30e7"
      },
      "outputs": [
        {
          "output_type": "execute_result",
          "data": {
            "text/plain": [
              "   gender race/ethnicity parental level of education         lunch  \\\n",
              "0  female        group B           bachelor's degree      standard   \n",
              "1  female        group C                some college      standard   \n",
              "2  female        group B             master's degree      standard   \n",
              "3    male        group A          associate's degree  free/reduced   \n",
              "4    male        group C                some college      standard   \n",
              "\n",
              "  test preparation course  math score  reading score  writing score  \n",
              "0                    none          72             72             74  \n",
              "1               completed          69             90             88  \n",
              "2                    none          90             95             93  \n",
              "3                    none          47             57             44  \n",
              "4                    none          76             78             75  "
            ],
            "text/html": [
              "\n",
              "  <div id=\"df-2a29c8d0-ba07-4f45-8489-bf8c3c3d780c\">\n",
              "    <div class=\"colab-df-container\">\n",
              "      <div>\n",
              "<style scoped>\n",
              "    .dataframe tbody tr th:only-of-type {\n",
              "        vertical-align: middle;\n",
              "    }\n",
              "\n",
              "    .dataframe tbody tr th {\n",
              "        vertical-align: top;\n",
              "    }\n",
              "\n",
              "    .dataframe thead th {\n",
              "        text-align: right;\n",
              "    }\n",
              "</style>\n",
              "<table border=\"1\" class=\"dataframe\">\n",
              "  <thead>\n",
              "    <tr style=\"text-align: right;\">\n",
              "      <th></th>\n",
              "      <th>gender</th>\n",
              "      <th>race/ethnicity</th>\n",
              "      <th>parental level of education</th>\n",
              "      <th>lunch</th>\n",
              "      <th>test preparation course</th>\n",
              "      <th>math score</th>\n",
              "      <th>reading score</th>\n",
              "      <th>writing score</th>\n",
              "    </tr>\n",
              "  </thead>\n",
              "  <tbody>\n",
              "    <tr>\n",
              "      <th>0</th>\n",
              "      <td>female</td>\n",
              "      <td>group B</td>\n",
              "      <td>bachelor's degree</td>\n",
              "      <td>standard</td>\n",
              "      <td>none</td>\n",
              "      <td>72</td>\n",
              "      <td>72</td>\n",
              "      <td>74</td>\n",
              "    </tr>\n",
              "    <tr>\n",
              "      <th>1</th>\n",
              "      <td>female</td>\n",
              "      <td>group C</td>\n",
              "      <td>some college</td>\n",
              "      <td>standard</td>\n",
              "      <td>completed</td>\n",
              "      <td>69</td>\n",
              "      <td>90</td>\n",
              "      <td>88</td>\n",
              "    </tr>\n",
              "    <tr>\n",
              "      <th>2</th>\n",
              "      <td>female</td>\n",
              "      <td>group B</td>\n",
              "      <td>master's degree</td>\n",
              "      <td>standard</td>\n",
              "      <td>none</td>\n",
              "      <td>90</td>\n",
              "      <td>95</td>\n",
              "      <td>93</td>\n",
              "    </tr>\n",
              "    <tr>\n",
              "      <th>3</th>\n",
              "      <td>male</td>\n",
              "      <td>group A</td>\n",
              "      <td>associate's degree</td>\n",
              "      <td>free/reduced</td>\n",
              "      <td>none</td>\n",
              "      <td>47</td>\n",
              "      <td>57</td>\n",
              "      <td>44</td>\n",
              "    </tr>\n",
              "    <tr>\n",
              "      <th>4</th>\n",
              "      <td>male</td>\n",
              "      <td>group C</td>\n",
              "      <td>some college</td>\n",
              "      <td>standard</td>\n",
              "      <td>none</td>\n",
              "      <td>76</td>\n",
              "      <td>78</td>\n",
              "      <td>75</td>\n",
              "    </tr>\n",
              "  </tbody>\n",
              "</table>\n",
              "</div>\n",
              "      <button class=\"colab-df-convert\" onclick=\"convertToInteractive('df-2a29c8d0-ba07-4f45-8489-bf8c3c3d780c')\"\n",
              "              title=\"Convert this dataframe to an interactive table.\"\n",
              "              style=\"display:none;\">\n",
              "        \n",
              "  <svg xmlns=\"http://www.w3.org/2000/svg\" height=\"24px\"viewBox=\"0 0 24 24\"\n",
              "       width=\"24px\">\n",
              "    <path d=\"M0 0h24v24H0V0z\" fill=\"none\"/>\n",
              "    <path d=\"M18.56 5.44l.94 2.06.94-2.06 2.06-.94-2.06-.94-.94-2.06-.94 2.06-2.06.94zm-11 1L8.5 8.5l.94-2.06 2.06-.94-2.06-.94L8.5 2.5l-.94 2.06-2.06.94zm10 10l.94 2.06.94-2.06 2.06-.94-2.06-.94-.94-2.06-.94 2.06-2.06.94z\"/><path d=\"M17.41 7.96l-1.37-1.37c-.4-.4-.92-.59-1.43-.59-.52 0-1.04.2-1.43.59L10.3 9.45l-7.72 7.72c-.78.78-.78 2.05 0 2.83L4 21.41c.39.39.9.59 1.41.59.51 0 1.02-.2 1.41-.59l7.78-7.78 2.81-2.81c.8-.78.8-2.07 0-2.86zM5.41 20L4 18.59l7.72-7.72 1.47 1.35L5.41 20z\"/>\n",
              "  </svg>\n",
              "      </button>\n",
              "      \n",
              "  <style>\n",
              "    .colab-df-container {\n",
              "      display:flex;\n",
              "      flex-wrap:wrap;\n",
              "      gap: 12px;\n",
              "    }\n",
              "\n",
              "    .colab-df-convert {\n",
              "      background-color: #E8F0FE;\n",
              "      border: none;\n",
              "      border-radius: 50%;\n",
              "      cursor: pointer;\n",
              "      display: none;\n",
              "      fill: #1967D2;\n",
              "      height: 32px;\n",
              "      padding: 0 0 0 0;\n",
              "      width: 32px;\n",
              "    }\n",
              "\n",
              "    .colab-df-convert:hover {\n",
              "      background-color: #E2EBFA;\n",
              "      box-shadow: 0px 1px 2px rgba(60, 64, 67, 0.3), 0px 1px 3px 1px rgba(60, 64, 67, 0.15);\n",
              "      fill: #174EA6;\n",
              "    }\n",
              "\n",
              "    [theme=dark] .colab-df-convert {\n",
              "      background-color: #3B4455;\n",
              "      fill: #D2E3FC;\n",
              "    }\n",
              "\n",
              "    [theme=dark] .colab-df-convert:hover {\n",
              "      background-color: #434B5C;\n",
              "      box-shadow: 0px 1px 3px 1px rgba(0, 0, 0, 0.15);\n",
              "      filter: drop-shadow(0px 1px 2px rgba(0, 0, 0, 0.3));\n",
              "      fill: #FFFFFF;\n",
              "    }\n",
              "  </style>\n",
              "\n",
              "      <script>\n",
              "        const buttonEl =\n",
              "          document.querySelector('#df-2a29c8d0-ba07-4f45-8489-bf8c3c3d780c button.colab-df-convert');\n",
              "        buttonEl.style.display =\n",
              "          google.colab.kernel.accessAllowed ? 'block' : 'none';\n",
              "\n",
              "        async function convertToInteractive(key) {\n",
              "          const element = document.querySelector('#df-2a29c8d0-ba07-4f45-8489-bf8c3c3d780c');\n",
              "          const dataTable =\n",
              "            await google.colab.kernel.invokeFunction('convertToInteractive',\n",
              "                                                     [key], {});\n",
              "          if (!dataTable) return;\n",
              "\n",
              "          const docLinkHtml = 'Like what you see? Visit the ' +\n",
              "            '<a target=\"_blank\" href=https://colab.research.google.com/notebooks/data_table.ipynb>data table notebook</a>'\n",
              "            + ' to learn more about interactive tables.';\n",
              "          element.innerHTML = '';\n",
              "          dataTable['output_type'] = 'display_data';\n",
              "          await google.colab.output.renderOutput(dataTable, element);\n",
              "          const docLink = document.createElement('div');\n",
              "          docLink.innerHTML = docLinkHtml;\n",
              "          element.appendChild(docLink);\n",
              "        }\n",
              "      </script>\n",
              "    </div>\n",
              "  </div>\n",
              "  "
            ]
          },
          "metadata": {},
          "execution_count": 7
        }
      ],
      "source": [
        "df.head()"
      ]
    },
    {
      "cell_type": "markdown",
      "id": "bb025d5e",
      "metadata": {
        "id": "bb025d5e"
      },
      "source": [
        "### Shape of dataset"
      ]
    },
    {
      "cell_type": "code",
      "execution_count": 8,
      "id": "9d033a92",
      "metadata": {
        "ExecuteTime": {
          "end_time": "2021-05-26T11:41:07.177765Z",
          "start_time": "2021-05-26T11:41:07.152664Z"
        },
        "_kg_hide-input": true,
        "execution": {
          "iopub.execute_input": "2021-05-18T08:06:34.749762Z",
          "iopub.status.busy": "2021-05-18T08:06:34.749086Z",
          "iopub.status.idle": "2021-05-18T08:06:34.753898Z",
          "shell.execute_reply": "2021-05-18T08:06:34.754777Z"
        },
        "papermill": {
          "duration": 0.052622,
          "end_time": "2021-05-18T08:06:34.755113",
          "exception": false,
          "start_time": "2021-05-18T08:06:34.702491",
          "status": "completed"
        },
        "tags": [],
        "colab": {
          "base_uri": "https://localhost:8080/"
        },
        "id": "9d033a92",
        "outputId": "f977003d-6143-4abf-dd1c-359f02b4b052"
      },
      "outputs": [
        {
          "output_type": "stream",
          "name": "stdout",
          "text": [
            "(1000, 8)\n"
          ]
        }
      ],
      "source": [
        "print(df.shape)"
      ]
    },
    {
      "cell_type": "markdown",
      "id": "68782e7e",
      "metadata": {
        "id": "68782e7e"
      },
      "source": [
        "### Columns and datatype of dataset"
      ]
    },
    {
      "cell_type": "code",
      "execution_count": 9,
      "id": "6f222887",
      "metadata": {
        "ExecuteTime": {
          "end_time": "2021-05-26T11:41:07.193673Z",
          "start_time": "2021-05-26T11:41:07.181674Z"
        },
        "_kg_hide-input": true,
        "execution": {
          "iopub.execute_input": "2021-05-18T08:06:34.847002Z",
          "iopub.status.busy": "2021-05-18T08:06:34.846292Z",
          "iopub.status.idle": "2021-05-18T08:06:34.851759Z",
          "shell.execute_reply": "2021-05-18T08:06:34.850848Z"
        },
        "papermill": {
          "duration": 0.053995,
          "end_time": "2021-05-18T08:06:34.851955",
          "exception": false,
          "start_time": "2021-05-18T08:06:34.797960",
          "status": "completed"
        },
        "tags": [],
        "colab": {
          "base_uri": "https://localhost:8080/"
        },
        "id": "6f222887",
        "outputId": "74008888-d75d-43d0-88b9-c75c792b5e3f"
      },
      "outputs": [
        {
          "output_type": "stream",
          "name": "stdout",
          "text": [
            "['gender', 'race/ethnicity', 'parental level of education', 'lunch', 'test preparation course', 'math score', 'reading score', 'writing score']\n"
          ]
        }
      ],
      "source": [
        "\n",
        "print(list(df.columns))"
      ]
    },
    {
      "cell_type": "code",
      "execution_count": 10,
      "id": "7d9a153a",
      "metadata": {
        "ExecuteTime": {
          "end_time": "2021-05-26T11:41:07.225664Z",
          "start_time": "2021-05-26T11:41:07.197702Z"
        },
        "_kg_hide-input": true,
        "execution": {
          "iopub.execute_input": "2021-05-18T08:06:34.946628Z",
          "iopub.status.busy": "2021-05-18T08:06:34.945606Z",
          "iopub.status.idle": "2021-05-18T08:06:34.949001Z",
          "shell.execute_reply": "2021-05-18T08:06:34.949492Z"
        },
        "papermill": {
          "duration": 0.052742,
          "end_time": "2021-05-18T08:06:34.949659",
          "exception": false,
          "start_time": "2021-05-18T08:06:34.896917",
          "status": "completed"
        },
        "tags": [],
        "colab": {
          "base_uri": "https://localhost:8080/"
        },
        "id": "7d9a153a",
        "outputId": "5331c31e-329d-483c-bb12-ed6546c5661a"
      },
      "outputs": [
        {
          "output_type": "stream",
          "name": "stdout",
          "text": [
            "gender                         object\n",
            "race/ethnicity                 object\n",
            "parental level of education    object\n",
            "lunch                          object\n",
            "test preparation course        object\n",
            "math score                      int64\n",
            "reading score                   int64\n",
            "writing score                   int64\n",
            "dtype: object\n"
          ]
        }
      ],
      "source": [
        "\n",
        "print(df.dtypes)"
      ]
    },
    {
      "cell_type": "markdown",
      "id": "7d4e661f",
      "metadata": {
        "id": "7d4e661f"
      },
      "source": [
        "### Data information"
      ]
    },
    {
      "cell_type": "code",
      "execution_count": 11,
      "id": "eb3bd046",
      "metadata": {
        "ExecuteTime": {
          "end_time": "2021-05-26T11:41:09.124241Z",
          "start_time": "2021-05-26T11:41:09.066236Z"
        },
        "_kg_hide-input": true,
        "execution": {
          "iopub.execute_input": "2021-05-18T08:06:35.198439Z",
          "iopub.status.busy": "2021-05-18T08:06:35.197786Z",
          "iopub.status.idle": "2021-05-18T08:06:35.201600Z",
          "shell.execute_reply": "2021-05-18T08:06:35.200961Z"
        },
        "papermill": {
          "duration": 0.069581,
          "end_time": "2021-05-18T08:06:35.201763",
          "exception": false,
          "start_time": "2021-05-18T08:06:35.132182",
          "status": "completed"
        },
        "tags": [],
        "colab": {
          "base_uri": "https://localhost:8080/"
        },
        "id": "eb3bd046",
        "outputId": "93acd9af-d7f8-42f5-bbde-6f48be093fdc"
      },
      "outputs": [
        {
          "output_type": "stream",
          "name": "stdout",
          "text": [
            "<class 'pandas.core.frame.DataFrame'>\n",
            "RangeIndex: 1000 entries, 0 to 999\n",
            "Data columns (total 8 columns):\n",
            " #   Column                       Non-Null Count  Dtype \n",
            "---  ------                       --------------  ----- \n",
            " 0   gender                       1000 non-null   object\n",
            " 1   race/ethnicity               1000 non-null   object\n",
            " 2   parental level of education  1000 non-null   object\n",
            " 3   lunch                        1000 non-null   object\n",
            " 4   test preparation course      1000 non-null   object\n",
            " 5   math score                   1000 non-null   int64 \n",
            " 6   reading score                1000 non-null   int64 \n",
            " 7   writing score                1000 non-null   int64 \n",
            "dtypes: int64(3), object(5)\n",
            "memory usage: 62.6+ KB\n",
            "None\n"
          ]
        }
      ],
      "source": [
        "\n",
        "print(df.info())"
      ]
    },
    {
      "cell_type": "markdown",
      "id": "4c16d264",
      "metadata": {
        "id": "4c16d264"
      },
      "source": [
        "### Statistical Description of Dataset"
      ]
    },
    {
      "cell_type": "code",
      "execution_count": 12,
      "id": "d6c6eca7",
      "metadata": {
        "ExecuteTime": {
          "end_time": "2021-05-26T11:41:07.790195Z",
          "start_time": "2021-05-26T11:41:07.725215Z"
        },
        "_kg_hide-input": true,
        "execution": {
          "iopub.execute_input": "2021-05-18T08:06:35.055811Z",
          "iopub.status.busy": "2021-05-18T08:06:35.042839Z",
          "iopub.status.idle": "2021-05-18T08:06:35.082128Z",
          "shell.execute_reply": "2021-05-18T08:06:35.082627Z"
        },
        "papermill": {
          "duration": 0.090192,
          "end_time": "2021-05-18T08:06:35.082849",
          "exception": false,
          "start_time": "2021-05-18T08:06:34.992657",
          "status": "completed"
        },
        "tags": [],
        "colab": {
          "base_uri": "https://localhost:8080/",
          "height": 300
        },
        "id": "d6c6eca7",
        "outputId": "41a28bd5-c9e6-4b34-ad03-b822e788c029"
      },
      "outputs": [
        {
          "output_type": "execute_result",
          "data": {
            "text/plain": [
              "       math score  reading score  writing score\n",
              "count  1000.00000    1000.000000    1000.000000\n",
              "mean     66.08900      69.169000      68.054000\n",
              "std      15.16308      14.600192      15.195657\n",
              "min       0.00000      17.000000      10.000000\n",
              "25%      57.00000      59.000000      57.750000\n",
              "50%      66.00000      70.000000      69.000000\n",
              "75%      77.00000      79.000000      79.000000\n",
              "max     100.00000     100.000000     100.000000"
            ],
            "text/html": [
              "\n",
              "  <div id=\"df-2e3bce22-7969-4134-8d8a-50b982acd725\">\n",
              "    <div class=\"colab-df-container\">\n",
              "      <div>\n",
              "<style scoped>\n",
              "    .dataframe tbody tr th:only-of-type {\n",
              "        vertical-align: middle;\n",
              "    }\n",
              "\n",
              "    .dataframe tbody tr th {\n",
              "        vertical-align: top;\n",
              "    }\n",
              "\n",
              "    .dataframe thead th {\n",
              "        text-align: right;\n",
              "    }\n",
              "</style>\n",
              "<table border=\"1\" class=\"dataframe\">\n",
              "  <thead>\n",
              "    <tr style=\"text-align: right;\">\n",
              "      <th></th>\n",
              "      <th>math score</th>\n",
              "      <th>reading score</th>\n",
              "      <th>writing score</th>\n",
              "    </tr>\n",
              "  </thead>\n",
              "  <tbody>\n",
              "    <tr>\n",
              "      <th>count</th>\n",
              "      <td>1000.00000</td>\n",
              "      <td>1000.000000</td>\n",
              "      <td>1000.000000</td>\n",
              "    </tr>\n",
              "    <tr>\n",
              "      <th>mean</th>\n",
              "      <td>66.08900</td>\n",
              "      <td>69.169000</td>\n",
              "      <td>68.054000</td>\n",
              "    </tr>\n",
              "    <tr>\n",
              "      <th>std</th>\n",
              "      <td>15.16308</td>\n",
              "      <td>14.600192</td>\n",
              "      <td>15.195657</td>\n",
              "    </tr>\n",
              "    <tr>\n",
              "      <th>min</th>\n",
              "      <td>0.00000</td>\n",
              "      <td>17.000000</td>\n",
              "      <td>10.000000</td>\n",
              "    </tr>\n",
              "    <tr>\n",
              "      <th>25%</th>\n",
              "      <td>57.00000</td>\n",
              "      <td>59.000000</td>\n",
              "      <td>57.750000</td>\n",
              "    </tr>\n",
              "    <tr>\n",
              "      <th>50%</th>\n",
              "      <td>66.00000</td>\n",
              "      <td>70.000000</td>\n",
              "      <td>69.000000</td>\n",
              "    </tr>\n",
              "    <tr>\n",
              "      <th>75%</th>\n",
              "      <td>77.00000</td>\n",
              "      <td>79.000000</td>\n",
              "      <td>79.000000</td>\n",
              "    </tr>\n",
              "    <tr>\n",
              "      <th>max</th>\n",
              "      <td>100.00000</td>\n",
              "      <td>100.000000</td>\n",
              "      <td>100.000000</td>\n",
              "    </tr>\n",
              "  </tbody>\n",
              "</table>\n",
              "</div>\n",
              "      <button class=\"colab-df-convert\" onclick=\"convertToInteractive('df-2e3bce22-7969-4134-8d8a-50b982acd725')\"\n",
              "              title=\"Convert this dataframe to an interactive table.\"\n",
              "              style=\"display:none;\">\n",
              "        \n",
              "  <svg xmlns=\"http://www.w3.org/2000/svg\" height=\"24px\"viewBox=\"0 0 24 24\"\n",
              "       width=\"24px\">\n",
              "    <path d=\"M0 0h24v24H0V0z\" fill=\"none\"/>\n",
              "    <path d=\"M18.56 5.44l.94 2.06.94-2.06 2.06-.94-2.06-.94-.94-2.06-.94 2.06-2.06.94zm-11 1L8.5 8.5l.94-2.06 2.06-.94-2.06-.94L8.5 2.5l-.94 2.06-2.06.94zm10 10l.94 2.06.94-2.06 2.06-.94-2.06-.94-.94-2.06-.94 2.06-2.06.94z\"/><path d=\"M17.41 7.96l-1.37-1.37c-.4-.4-.92-.59-1.43-.59-.52 0-1.04.2-1.43.59L10.3 9.45l-7.72 7.72c-.78.78-.78 2.05 0 2.83L4 21.41c.39.39.9.59 1.41.59.51 0 1.02-.2 1.41-.59l7.78-7.78 2.81-2.81c.8-.78.8-2.07 0-2.86zM5.41 20L4 18.59l7.72-7.72 1.47 1.35L5.41 20z\"/>\n",
              "  </svg>\n",
              "      </button>\n",
              "      \n",
              "  <style>\n",
              "    .colab-df-container {\n",
              "      display:flex;\n",
              "      flex-wrap:wrap;\n",
              "      gap: 12px;\n",
              "    }\n",
              "\n",
              "    .colab-df-convert {\n",
              "      background-color: #E8F0FE;\n",
              "      border: none;\n",
              "      border-radius: 50%;\n",
              "      cursor: pointer;\n",
              "      display: none;\n",
              "      fill: #1967D2;\n",
              "      height: 32px;\n",
              "      padding: 0 0 0 0;\n",
              "      width: 32px;\n",
              "    }\n",
              "\n",
              "    .colab-df-convert:hover {\n",
              "      background-color: #E2EBFA;\n",
              "      box-shadow: 0px 1px 2px rgba(60, 64, 67, 0.3), 0px 1px 3px 1px rgba(60, 64, 67, 0.15);\n",
              "      fill: #174EA6;\n",
              "    }\n",
              "\n",
              "    [theme=dark] .colab-df-convert {\n",
              "      background-color: #3B4455;\n",
              "      fill: #D2E3FC;\n",
              "    }\n",
              "\n",
              "    [theme=dark] .colab-df-convert:hover {\n",
              "      background-color: #434B5C;\n",
              "      box-shadow: 0px 1px 3px 1px rgba(0, 0, 0, 0.15);\n",
              "      filter: drop-shadow(0px 1px 2px rgba(0, 0, 0, 0.3));\n",
              "      fill: #FFFFFF;\n",
              "    }\n",
              "  </style>\n",
              "\n",
              "      <script>\n",
              "        const buttonEl =\n",
              "          document.querySelector('#df-2e3bce22-7969-4134-8d8a-50b982acd725 button.colab-df-convert');\n",
              "        buttonEl.style.display =\n",
              "          google.colab.kernel.accessAllowed ? 'block' : 'none';\n",
              "\n",
              "        async function convertToInteractive(key) {\n",
              "          const element = document.querySelector('#df-2e3bce22-7969-4134-8d8a-50b982acd725');\n",
              "          const dataTable =\n",
              "            await google.colab.kernel.invokeFunction('convertToInteractive',\n",
              "                                                     [key], {});\n",
              "          if (!dataTable) return;\n",
              "\n",
              "          const docLinkHtml = 'Like what you see? Visit the ' +\n",
              "            '<a target=\"_blank\" href=https://colab.research.google.com/notebooks/data_table.ipynb>data table notebook</a>'\n",
              "            + ' to learn more about interactive tables.';\n",
              "          element.innerHTML = '';\n",
              "          dataTable['output_type'] = 'display_data';\n",
              "          await google.colab.output.renderOutput(dataTable, element);\n",
              "          const docLink = document.createElement('div');\n",
              "          docLink.innerHTML = docLinkHtml;\n",
              "          element.appendChild(docLink);\n",
              "        }\n",
              "      </script>\n",
              "    </div>\n",
              "  </div>\n",
              "  "
            ]
          },
          "metadata": {},
          "execution_count": 12
        }
      ],
      "source": [
        "\n",
        "df.describe()"
      ]
    },
    {
      "cell_type": "markdown",
      "id": "92a8e0fe",
      "metadata": {
        "id": "92a8e0fe"
      },
      "source": [
        "### Dropping duplicate records if any"
      ]
    },
    {
      "cell_type": "code",
      "execution_count": 13,
      "id": "ca97fd8a",
      "metadata": {
        "ExecuteTime": {
          "end_time": "2021-05-26T11:41:09.811897Z",
          "start_time": "2021-05-26T11:41:09.779906Z"
        },
        "execution": {
          "iopub.execute_input": "2021-05-18T08:06:35.493890Z",
          "iopub.status.busy": "2021-05-18T08:06:35.492852Z",
          "iopub.status.idle": "2021-05-18T08:06:35.505300Z",
          "shell.execute_reply": "2021-05-18T08:06:35.504545Z"
        },
        "papermill": {
          "duration": 0.062888,
          "end_time": "2021-05-18T08:06:35.505461",
          "exception": false,
          "start_time": "2021-05-18T08:06:35.442573",
          "status": "completed"
        },
        "tags": [],
        "colab": {
          "base_uri": "https://localhost:8080/"
        },
        "id": "ca97fd8a",
        "outputId": "03a14a4a-2034-43ee-8155-879ce19b8ae0"
      },
      "outputs": [
        {
          "output_type": "stream",
          "name": "stdout",
          "text": [
            "(1000, 8)\n"
          ]
        }
      ],
      "source": [
        "df_dup=df.drop_duplicates()\n",
        "\n",
        "print(df.shape)"
      ]
    },
    {
      "cell_type": "markdown",
      "id": "bd7d4e02",
      "metadata": {
        "id": "bd7d4e02"
      },
      "source": [
        "### Plotting Heatmap"
      ]
    },
    {
      "cell_type": "code",
      "execution_count": 14,
      "id": "c63a8a6e",
      "metadata": {
        "_kg_hide-input": true,
        "execution": {
          "iopub.execute_input": "2021-05-18T08:06:37.958733Z",
          "iopub.status.busy": "2021-05-18T08:06:37.957867Z",
          "iopub.status.idle": "2021-05-18T08:06:38.291437Z",
          "shell.execute_reply": "2021-05-18T08:06:38.291958Z"
        },
        "papermill": {
          "duration": 0.3893,
          "end_time": "2021-05-18T08:06:38.292149",
          "exception": false,
          "start_time": "2021-05-18T08:06:37.902849",
          "status": "completed"
        },
        "tags": [],
        "colab": {
          "base_uri": "https://localhost:8080/",
          "height": 573
        },
        "id": "c63a8a6e",
        "outputId": "52faba1e-2a15-4f5f-a809-ddfae33cc8e1"
      },
      "outputs": [
        {
          "output_type": "execute_result",
          "data": {
            "text/plain": [
              "<matplotlib.axes._subplots.AxesSubplot at 0x7f3d50450550>"
            ]
          },
          "metadata": {},
          "execution_count": 14
        },
        {
          "output_type": "display_data",
          "data": {
            "text/plain": [
              "<Figure size 1440x720 with 2 Axes>"
            ],
            "image/png": "[encoded data removed]"
          },
          "metadata": {
            "needs_background": "light"
          }
        }
      ],
      "source": [
        "plt.figure(figsize=(20,10))\n",
        "plt.title(\"Heatmap of continuous features\",fontweight='bold',fontsize=20)\n",
        "sns.heatmap(df.corr(),annot=True,cmap='YlGnBu',linewidth=1)\n"
      ]
    },
    {
      "cell_type": "code",
      "execution_count": 15,
      "id": "d62c12c5",
      "metadata": {
        "execution": {
          "iopub.execute_input": "2021-05-18T08:06:38.407389Z",
          "iopub.status.busy": "2021-05-18T08:06:38.406756Z",
          "iopub.status.idle": "2021-05-18T08:06:38.412061Z",
          "shell.execute_reply": "2021-05-18T08:06:38.411499Z"
        },
        "papermill": {
          "duration": 0.065712,
          "end_time": "2021-05-18T08:06:38.412215",
          "exception": false,
          "start_time": "2021-05-18T08:06:38.346503",
          "status": "completed"
        },
        "tags": [],
        "colab": {
          "base_uri": "https://localhost:8080/"
        },
        "id": "d62c12c5",
        "outputId": "ecc151e1-02e0-4b2a-e4e0-1d3f46c38018"
      },
      "outputs": [
        {
          "output_type": "stream",
          "name": "stdout",
          "text": [
            "66.0 69.0 70.0\n"
          ]
        }
      ],
      "source": [
        "print(df['math score'].median(),df['writing score'].median(),df['reading score'].median())"
      ]
    },
    {
      "cell_type": "markdown",
      "id": "e79b85db",
      "metadata": {
        "id": "e79b85db"
      },
      "source": [
        "### Adding subject scores to overall_score"
      ]
    },
    {
      "cell_type": "code",
      "execution_count": 16,
      "id": "f83a69a1",
      "metadata": {
        "execution": {
          "iopub.execute_input": "2021-05-18T08:06:47.556833Z",
          "iopub.status.busy": "2021-05-18T08:06:47.556150Z",
          "iopub.status.idle": "2021-05-18T08:06:47.561228Z",
          "shell.execute_reply": "2021-05-18T08:06:47.560511Z"
        },
        "papermill": {
          "duration": 0.11406,
          "end_time": "2021-05-18T08:06:47.561388",
          "exception": false,
          "start_time": "2021-05-18T08:06:47.447328",
          "status": "completed"
        },
        "tags": [],
        "colab": {
          "base_uri": "https://localhost:8080/",
          "height": 268
        },
        "id": "f83a69a1",
        "outputId": "aaf240ff-1cd4-4059-8469-b8095b20735a"
      },
      "outputs": [
        {
          "output_type": "execute_result",
          "data": {
            "text/plain": [
              "   gender race/ethnicity parental level of education         lunch  \\\n",
              "0  female        group B           bachelor's degree      standard   \n",
              "1  female        group C                some college      standard   \n",
              "2  female        group B             master's degree      standard   \n",
              "3    male        group A          associate's degree  free/reduced   \n",
              "4    male        group C                some college      standard   \n",
              "\n",
              "  test preparation course  math score  reading score  writing score  \\\n",
              "0                    none          72             72             74   \n",
              "1               completed          69             90             88   \n",
              "2                    none          90             95             93   \n",
              "3                    none          47             57             44   \n",
              "4                    none          76             78             75   \n",
              "\n",
              "   overall_score  \n",
              "0            218  \n",
              "1            247  \n",
              "2            278  \n",
              "3            148  \n",
              "4            229  "
            ],
            "text/html": [
              "\n",
              "  <div id=\"df-b7bf5e46-c212-4618-87ae-e498049b026e\">\n",
              "    <div class=\"colab-df-container\">\n",
              "      <div>\n",
              "<style scoped>\n",
              "    .dataframe tbody tr th:only-of-type {\n",
              "        vertical-align: middle;\n",
              "    }\n",
              "\n",
              "    .dataframe tbody tr th {\n",
              "        vertical-align: top;\n",
              "    }\n",
              "\n",
              "    .dataframe thead th {\n",
              "        text-align: right;\n",
              "    }\n",
              "</style>\n",
              "<table border=\"1\" class=\"dataframe\">\n",
              "  <thead>\n",
              "    <tr style=\"text-align: right;\">\n",
              "      <th></th>\n",
              "      <th>gender</th>\n",
              "      <th>race/ethnicity</th>\n",
              "      <th>parental level of education</th>\n",
              "      <th>lunch</th>\n",
              "      <th>test preparation course</th>\n",
              "      <th>math score</th>\n",
              "      <th>reading score</th>\n",
              "      <th>writing score</th>\n",
              "      <th>overall_score</th>\n",
              "    </tr>\n",
              "  </thead>\n",
              "  <tbody>\n",
              "    <tr>\n",
              "      <th>0</th>\n",
              "      <td>female</td>\n",
              "      <td>group B</td>\n",
              "      <td>bachelor's degree</td>\n",
              "      <td>standard</td>\n",
              "      <td>none</td>\n",
              "      <td>72</td>\n",
              "      <td>72</td>\n",
              "      <td>74</td>\n",
              "      <td>218</td>\n",
              "    </tr>\n",
              "    <tr>\n",
              "      <th>1</th>\n",
              "      <td>female</td>\n",
              "      <td>group C</td>\n",
              "      <td>some college</td>\n",
              "      <td>standard</td>\n",
              "      <td>completed</td>\n",
              "      <td>69</td>\n",
              "      <td>90</td>\n",
              "      <td>88</td>\n",
              "      <td>247</td>\n",
              "    </tr>\n",
              "    <tr>\n",
              "      <th>2</th>\n",
              "      <td>female</td>\n",
              "      <td>group B</td>\n",
              "      <td>master's degree</td>\n",
              "      <td>standard</td>\n",
              "      <td>none</td>\n",
              "      <td>90</td>\n",
              "      <td>95</td>\n",
              "      <td>93</td>\n",
              "      <td>278</td>\n",
              "    </tr>\n",
              "    <tr>\n",
              "      <th>3</th>\n",
              "      <td>male</td>\n",
              "      <td>group A</td>\n",
              "      <td>associate's degree</td>\n",
              "      <td>free/reduced</td>\n",
              "      <td>none</td>\n",
              "      <td>47</td>\n",
              "      <td>57</td>\n",
              "      <td>44</td>\n",
              "      <td>148</td>\n",
              "    </tr>\n",
              "    <tr>\n",
              "      <th>4</th>\n",
              "      <td>male</td>\n",
              "      <td>group C</td>\n",
              "      <td>some college</td>\n",
              "      <td>standard</td>\n",
              "      <td>none</td>\n",
              "      <td>76</td>\n",
              "      <td>78</td>\n",
              "      <td>75</td>\n",
              "      <td>229</td>\n",
              "    </tr>\n",
              "  </tbody>\n",
              "</table>\n",
              "</div>\n",
              "      <button class=\"colab-df-convert\" onclick=\"convertToInteractive('df-b7bf5e46-c212-4618-87ae-e498049b026e')\"\n",
              "              title=\"Convert this dataframe to an interactive table.\"\n",
              "              style=\"display:none;\">\n",
              "        \n",
              "  <svg xmlns=\"http://www.w3.org/2000/svg\" height=\"24px\"viewBox=\"0 0 24 24\"\n",
              "       width=\"24px\">\n",
              "    <path d=\"M0 0h24v24H0V0z\" fill=\"none\"/>\n",
              "    <path d=\"M18.56 5.44l.94 2.06.94-2.06 2.06-.94-2.06-.94-.94-2.06-.94 2.06-2.06.94zm-11 1L8.5 8.5l.94-2.06 2.06-.94-2.06-.94L8.5 2.5l-.94 2.06-2.06.94zm10 10l.94 2.06.94-2.06 2.06-.94-2.06-.94-.94-2.06-.94 2.06-2.06.94z\"/><path d=\"M17.41 7.96l-1.37-1.37c-.4-.4-.92-.59-1.43-.59-.52 0-1.04.2-1.43.59L10.3 9.45l-7.72 7.72c-.78.78-.78 2.05 0 2.83L4 21.41c.39.39.9.59 1.41.59.51 0 1.02-.2 1.41-.59l7.78-7.78 2.81-2.81c.8-.78.8-2.07 0-2.86zM5.41 20L4 18.59l7.72-7.72 1.47 1.35L5.41 20z\"/>\n",
              "  </svg>\n",
              "      </button>\n",
              "      \n",
              "  <style>\n",
              "    .colab-df-container {\n",
              "      display:flex;\n",
              "      flex-wrap:wrap;\n",
              "      gap: 12px;\n",
              "    }\n",
              "\n",
              "    .colab-df-convert {\n",
              "      background-color: #E8F0FE;\n",
              "      border: none;\n",
              "      border-radius: 50%;\n",
              "      cursor: pointer;\n",
              "      display: none;\n",
              "      fill: #1967D2;\n",
              "      height: 32px;\n",
              "      padding: 0 0 0 0;\n",
              "      width: 32px;\n",
              "    }\n",
              "\n",
              "    .colab-df-convert:hover {\n",
              "      background-color: #E2EBFA;\n",
              "      box-shadow: 0px 1px 2px rgba(60, 64, 67, 0.3), 0px 1px 3px 1px rgba(60, 64, 67, 0.15);\n",
              "      fill: #174EA6;\n",
              "    }\n",
              "\n",
              "    [theme=dark] .colab-df-convert {\n",
              "      background-color: #3B4455;\n",
              "      fill: #D2E3FC;\n",
              "    }\n",
              "\n",
              "    [theme=dark] .colab-df-convert:hover {\n",
              "      background-color: #434B5C;\n",
              "      box-shadow: 0px 1px 3px 1px rgba(0, 0, 0, 0.15);\n",
              "      filter: drop-shadow(0px 1px 2px rgba(0, 0, 0, 0.3));\n",
              "      fill: #FFFFFF;\n",
              "    }\n",
              "  </style>\n",
              "\n",
              "      <script>\n",
              "        const buttonEl =\n",
              "          document.querySelector('#df-b7bf5e46-c212-4618-87ae-e498049b026e button.colab-df-convert');\n",
              "        buttonEl.style.display =\n",
              "          google.colab.kernel.accessAllowed ? 'block' : 'none';\n",
              "\n",
              "        async function convertToInteractive(key) {\n",
              "          const element = document.querySelector('#df-b7bf5e46-c212-4618-87ae-e498049b026e');\n",
              "          const dataTable =\n",
              "            await google.colab.kernel.invokeFunction('convertToInteractive',\n",
              "                                                     [key], {});\n",
              "          if (!dataTable) return;\n",
              "\n",
              "          const docLinkHtml = 'Like what you see? Visit the ' +\n",
              "            '<a target=\"_blank\" href=https://colab.research.google.com/notebooks/data_table.ipynb>data table notebook</a>'\n",
              "            + ' to learn more about interactive tables.';\n",
              "          element.innerHTML = '';\n",
              "          dataTable['output_type'] = 'display_data';\n",
              "          await google.colab.output.renderOutput(dataTable, element);\n",
              "          const docLink = document.createElement('div');\n",
              "          docLink.innerHTML = docLinkHtml;\n",
              "          element.appendChild(docLink);\n",
              "        }\n",
              "      </script>\n",
              "    </div>\n",
              "  </div>\n",
              "  "
            ]
          },
          "metadata": {},
          "execution_count": 16
        }
      ],
      "source": [
        "df['overall_score']=df['math score']+df['reading score']+df['writing score']\n",
        "df.head()"
      ]
    },
    {
      "cell_type": "markdown",
      "id": "2199832f",
      "metadata": {
        "id": "2199832f"
      },
      "source": [
        "### Correlation between Writing score and math score w.r.t gender"
      ]
    },
    {
      "cell_type": "code",
      "execution_count": 17,
      "id": "af09f438",
      "metadata": {
        "_kg_hide-input": true,
        "execution": {
          "iopub.execute_input": "2021-05-18T08:06:54.392818Z",
          "iopub.status.busy": "2021-05-18T08:06:54.358791Z",
          "iopub.status.idle": "2021-05-18T08:06:54.958030Z",
          "shell.execute_reply": "2021-05-18T08:06:54.957493Z"
        },
        "papermill": {
          "duration": 0.734248,
          "end_time": "2021-05-18T08:06:54.958173",
          "exception": false,
          "start_time": "2021-05-18T08:06:54.223925",
          "status": "completed"
        },
        "tags": [],
        "colab": {
          "base_uri": "https://localhost:8080/",
          "height": 458
        },
        "id": "af09f438",
        "outputId": "be2882cd-a206-4bbc-bbc0-30424bfe831f"
      },
      "outputs": [
        {
          "output_type": "execute_result",
          "data": {
            "text/plain": [
              "<seaborn.axisgrid.JointGrid at 0x7f3d4d1cbdd0>"
            ]
          },
          "metadata": {},
          "execution_count": 17
        },
        {
          "output_type": "display_data",
          "data": {
            "text/plain": [
              "<Figure size 432x432 with 3 Axes>"
            ],
            "image/png": "[encoded data removed]"
          },
          "metadata": {
            "needs_background": "light"
          }
        }
      ],
      "source": [
        "sns.jointplot(data=df,x='writing score',y='math score',palette='rocket',hue='gender')"
      ]
    },
    {
      "cell_type": "markdown",
      "id": "e5831a22",
      "metadata": {
        "id": "e5831a22"
      },
      "source": [
        "### Correlation between Writing score and math score w.r.t lunch"
      ]
    },
    {
      "cell_type": "code",
      "execution_count": 18,
      "id": "fd8ded10",
      "metadata": {
        "_kg_hide-input": true,
        "execution": {
          "iopub.execute_input": "2021-05-18T08:06:55.204584Z",
          "iopub.status.busy": "2021-05-18T08:06:55.196401Z",
          "iopub.status.idle": "2021-05-18T08:06:55.787168Z",
          "shell.execute_reply": "2021-05-18T08:06:55.787624Z"
        },
        "papermill": {
          "duration": 0.727503,
          "end_time": "2021-05-18T08:06:55.787828",
          "exception": false,
          "start_time": "2021-05-18T08:06:55.060325",
          "status": "completed"
        },
        "tags": [],
        "colab": {
          "base_uri": "https://localhost:8080/",
          "height": 458
        },
        "id": "fd8ded10",
        "outputId": "5c6d5484-a0e6-4f13-94e2-2fc4abc96dba"
      },
      "outputs": [
        {
          "output_type": "execute_result",
          "data": {
            "text/plain": [
              "<seaborn.axisgrid.JointGrid at 0x7f3d4d1d4b90>"
            ]
          },
          "metadata": {},
          "execution_count": 18
        },
        {
          "output_type": "display_data",
          "data": {
            "text/plain": [
              "<Figure size 432x432 with 3 Axes>"
            ],
            "image/png": "[encoded data removed]"
          },
          "metadata": {
            "needs_background": "light"
          }
        }
      ],
      "source": [
        "sns.jointplot(data=df,x='writing score',y='math score',palette='rocket',hue='lunch')"
      ]
    },
    {
      "cell_type": "markdown",
      "id": "d377424c",
      "metadata": {
        "id": "d377424c"
      },
      "source": [
        "### Correlation between reading score and math score w.r.t gender"
      ]
    },
    {
      "cell_type": "code",
      "execution_count": 19,
      "id": "6b742ce1",
      "metadata": {
        "_kg_hide-input": true,
        "execution": {
          "iopub.execute_input": "2021-05-18T08:06:56.214837Z",
          "iopub.status.busy": "2021-05-18T08:06:56.214177Z",
          "iopub.status.idle": "2021-05-18T08:06:56.790135Z",
          "shell.execute_reply": "2021-05-18T08:06:56.789438Z"
        },
        "papermill": {
          "duration": 0.70146,
          "end_time": "2021-05-18T08:06:56.790291",
          "exception": false,
          "start_time": "2021-05-18T08:06:56.088831",
          "status": "completed"
        },
        "tags": [],
        "colab": {
          "base_uri": "https://localhost:8080/",
          "height": 458
        },
        "id": "6b742ce1",
        "outputId": "fb2e8a0a-adf5-4c4d-bae1-5a3b638e5b4a"
      },
      "outputs": [
        {
          "output_type": "execute_result",
          "data": {
            "text/plain": [
              "<seaborn.axisgrid.JointGrid at 0x7f3d492effd0>"
            ]
          },
          "metadata": {},
          "execution_count": 19
        },
        {
          "output_type": "display_data",
          "data": {
            "text/plain": [
              "<Figure size 432x432 with 3 Axes>"
            ],
            "image/png": "[encoded data removed]"
          },
          "metadata": {
            "needs_background": "light"
          }
        }
      ],
      "source": [
        "sns.jointplot(data=df,x='reading score',y='math score',palette='rocket',hue='gender')"
      ]
    },
    {
      "cell_type": "markdown",
      "id": "bd8a025f",
      "metadata": {
        "id": "bd8a025f"
      },
      "source": [
        "### Correlation between reading score and math score w.r.t lunch"
      ]
    },
    {
      "cell_type": "code",
      "execution_count": 20,
      "id": "4e7a02b7",
      "metadata": {
        "_kg_hide-input": true,
        "execution": {
          "iopub.execute_input": "2021-05-18T08:06:57.017501Z",
          "iopub.status.busy": "2021-05-18T08:06:57.016456Z",
          "iopub.status.idle": "2021-05-18T08:06:57.616611Z",
          "shell.execute_reply": "2021-05-18T08:06:57.616093Z"
        },
        "papermill": {
          "duration": 0.720619,
          "end_time": "2021-05-18T08:06:57.616801",
          "exception": false,
          "start_time": "2021-05-18T08:06:56.896182",
          "status": "completed"
        },
        "tags": [],
        "colab": {
          "base_uri": "https://localhost:8080/",
          "height": 458
        },
        "id": "4e7a02b7",
        "outputId": "4277193d-595b-4f36-9a1c-f0074b1e0934"
      },
      "outputs": [
        {
          "output_type": "execute_result",
          "data": {
            "text/plain": [
              "<seaborn.axisgrid.JointGrid at 0x7f3d49184e10>"
            ]
          },
          "metadata": {},
          "execution_count": 20
        },
        {
          "output_type": "display_data",
          "data": {
            "text/plain": [
              "<Figure size 432x432 with 3 Axes>"
            ],
            "image/png": "[encoded data removed]"
          },
          "metadata": {
            "needs_background": "light"
          }
        }
      ],
      "source": [
        "sns.jointplot(data=df,x='reading score',y='math score',palette='rocket',hue='lunch')"
      ]
    },
    {
      "cell_type": "markdown",
      "id": "8ab96991",
      "metadata": {
        "id": "8ab96991"
      },
      "source": [
        "### Correlation between reading score and writing score w.r.t gender"
      ]
    },
    {
      "cell_type": "code",
      "execution_count": 21,
      "id": "62c30d1f",
      "metadata": {
        "_kg_hide-input": true,
        "execution": {
          "iopub.execute_input": "2021-05-18T08:06:58.102952Z",
          "iopub.status.busy": "2021-05-18T08:06:58.102301Z",
          "iopub.status.idle": "2021-05-18T08:06:58.642132Z",
          "shell.execute_reply": "2021-05-18T08:06:58.641534Z"
        },
        "papermill": {
          "duration": 0.706444,
          "end_time": "2021-05-18T08:06:58.642275",
          "exception": false,
          "start_time": "2021-05-18T08:06:57.935831",
          "status": "completed"
        },
        "tags": [],
        "colab": {
          "base_uri": "https://localhost:8080/",
          "height": 458
        },
        "id": "62c30d1f",
        "outputId": "1c651a35-9a3d-4871-d6c1-175bd96e72aa"
      },
      "outputs": [
        {
          "output_type": "execute_result",
          "data": {
            "text/plain": [
              "<seaborn.axisgrid.JointGrid at 0x7f3d49060ad0>"
            ]
          },
          "metadata": {},
          "execution_count": 21
        },
        {
          "output_type": "display_data",
          "data": {
            "text/plain": [
              "<Figure size 432x432 with 3 Axes>"
            ],
            "image/png": "[encoded data removed]"
          },
          "metadata": {
            "needs_background": "light"
          }
        }
      ],
      "source": [
        "sns.jointplot(data=df,x='reading score',y='writing score',palette='rocket',hue='gender')"
      ]
    },
    {
      "cell_type": "markdown",
      "id": "f85bf38d",
      "metadata": {
        "id": "f85bf38d"
      },
      "source": [
        "### Correlation between reading score and writing score w.r.t lunch"
      ]
    },
    {
      "cell_type": "code",
      "execution_count": 22,
      "id": "0cb6f510",
      "metadata": {
        "_kg_hide-input": true,
        "execution": {
          "iopub.execute_input": "2021-05-18T08:06:58.881985Z",
          "iopub.status.busy": "2021-05-18T08:06:58.881272Z",
          "iopub.status.idle": "2021-05-18T08:06:59.517366Z",
          "shell.execute_reply": "2021-05-18T08:06:59.516651Z"
        },
        "papermill": {
          "duration": 0.765989,
          "end_time": "2021-05-18T08:06:59.517516",
          "exception": false,
          "start_time": "2021-05-18T08:06:58.751527",
          "status": "completed"
        },
        "tags": [],
        "colab": {
          "base_uri": "https://localhost:8080/",
          "height": 458
        },
        "id": "0cb6f510",
        "outputId": "4c9c74c9-7a0a-47f9-db9e-1a527ebc9d86"
      },
      "outputs": [
        {
          "output_type": "execute_result",
          "data": {
            "text/plain": [
              "<seaborn.axisgrid.JointGrid at 0x7f3d48f5b650>"
            ]
          },
          "metadata": {},
          "execution_count": 22
        },
        {
          "output_type": "display_data",
          "data": {
            "text/plain": [
              "<Figure size 432x432 with 3 Axes>"
            ],
            "image/png": "[encoded data removed]"
          },
          "metadata": {
            "needs_background": "light"
          }
        }
      ],
      "source": [
        "sns.jointplot(data=df,x='reading score',y='writing score',palette='rocket',hue='lunch')"
      ]
    },
    {
      "cell_type": "markdown",
      "id": "6a1cc207",
      "metadata": {
        "id": "6a1cc207"
      },
      "source": [
        "### Feature Engineering"
      ]
    },
    {
      "cell_type": "markdown",
      "id": "fd55fd52",
      "metadata": {
        "id": "fd55fd52"
      },
      "source": [
        "#### Dropping irrelevant column"
      ]
    },
    {
      "cell_type": "code",
      "execution_count": 23,
      "id": "de3bcaea",
      "metadata": {
        "execution": {
          "iopub.execute_input": "2021-05-18T08:07:02.078837Z",
          "iopub.status.busy": "2021-05-18T08:07:02.073758Z",
          "iopub.status.idle": "2021-05-18T08:07:02.085103Z",
          "shell.execute_reply": "2021-05-18T08:07:02.084432Z"
        },
        "papermill": {
          "duration": 0.139451,
          "end_time": "2021-05-18T08:07:02.085250",
          "exception": false,
          "start_time": "2021-05-18T08:07:01.945799",
          "status": "completed"
        },
        "tags": [],
        "colab": {
          "base_uri": "https://localhost:8080/",
          "height": 206
        },
        "id": "de3bcaea",
        "outputId": "85512d84-aad8-4656-d343-f73b5e41d395"
      },
      "outputs": [
        {
          "output_type": "execute_result",
          "data": {
            "text/plain": [
              "   gender race/ethnicity parental level of education         lunch  \\\n",
              "0  female        group B           bachelor's degree      standard   \n",
              "1  female        group C                some college      standard   \n",
              "2  female        group B             master's degree      standard   \n",
              "3    male        group A          associate's degree  free/reduced   \n",
              "4    male        group C                some college      standard   \n",
              "\n",
              "  test preparation course  overall_score  \n",
              "0                    none            218  \n",
              "1               completed            247  \n",
              "2                    none            278  \n",
              "3                    none            148  \n",
              "4                    none            229  "
            ],
            "text/html": [
              "\n",
              "  <div id=\"df-2303e45e-9d0c-4bf8-a71e-f38a7514a80a\">\n",
              "    <div class=\"colab-df-container\">\n",
              "      <div>\n",
              "<style scoped>\n",
              "    .dataframe tbody tr th:only-of-type {\n",
              "        vertical-align: middle;\n",
              "    }\n",
              "\n",
              "    .dataframe tbody tr th {\n",
              "        vertical-align: top;\n",
              "    }\n",
              "\n",
              "    .dataframe thead th {\n",
              "        text-align: right;\n",
              "    }\n",
              "</style>\n",
              "<table border=\"1\" class=\"dataframe\">\n",
              "  <thead>\n",
              "    <tr style=\"text-align: right;\">\n",
              "      <th></th>\n",
              "      <th>gender</th>\n",
              "      <th>race/ethnicity</th>\n",
              "      <th>parental level of education</th>\n",
              "      <th>lunch</th>\n",
              "      <th>test preparation course</th>\n",
              "      <th>overall_score</th>\n",
              "    </tr>\n",
              "  </thead>\n",
              "  <tbody>\n",
              "    <tr>\n",
              "      <th>0</th>\n",
              "      <td>female</td>\n",
              "      <td>group B</td>\n",
              "      <td>bachelor's degree</td>\n",
              "      <td>standard</td>\n",
              "      <td>none</td>\n",
              "      <td>218</td>\n",
              "    </tr>\n",
              "    <tr>\n",
              "      <th>1</th>\n",
              "      <td>female</td>\n",
              "      <td>group C</td>\n",
              "      <td>some college</td>\n",
              "      <td>standard</td>\n",
              "      <td>completed</td>\n",
              "      <td>247</td>\n",
              "    </tr>\n",
              "    <tr>\n",
              "      <th>2</th>\n",
              "      <td>female</td>\n",
              "      <td>group B</td>\n",
              "      <td>master's degree</td>\n",
              "      <td>standard</td>\n",
              "      <td>none</td>\n",
              "      <td>278</td>\n",
              "    </tr>\n",
              "    <tr>\n",
              "      <th>3</th>\n",
              "      <td>male</td>\n",
              "      <td>group A</td>\n",
              "      <td>associate's degree</td>\n",
              "      <td>free/reduced</td>\n",
              "      <td>none</td>\n",
              "      <td>148</td>\n",
              "    </tr>\n",
              "    <tr>\n",
              "      <th>4</th>\n",
              "      <td>male</td>\n",
              "      <td>group C</td>\n",
              "      <td>some college</td>\n",
              "      <td>standard</td>\n",
              "      <td>none</td>\n",
              "      <td>229</td>\n",
              "    </tr>\n",
              "  </tbody>\n",
              "</table>\n",
              "</div>\n",
              "      <button class=\"colab-df-convert\" onclick=\"convertToInteractive('df-2303e45e-9d0c-4bf8-a71e-f38a7514a80a')\"\n",
              "              title=\"Convert this dataframe to an interactive table.\"\n",
              "              style=\"display:none;\">\n",
              "        \n",
              "  <svg xmlns=\"http://www.w3.org/2000/svg\" height=\"24px\"viewBox=\"0 0 24 24\"\n",
              "       width=\"24px\">\n",
              "    <path d=\"M0 0h24v24H0V0z\" fill=\"none\"/>\n",
              "    <path d=\"M18.56 5.44l.94 2.06.94-2.06 2.06-.94-2.06-.94-.94-2.06-.94 2.06-2.06.94zm-11 1L8.5 8.5l.94-2.06 2.06-.94-2.06-.94L8.5 2.5l-.94 2.06-2.06.94zm10 10l.94 2.06.94-2.06 2.06-.94-2.06-.94-.94-2.06-.94 2.06-2.06.94z\"/><path d=\"M17.41 7.96l-1.37-1.37c-.4-.4-.92-.59-1.43-.59-.52 0-1.04.2-1.43.59L10.3 9.45l-7.72 7.72c-.78.78-.78 2.05 0 2.83L4 21.41c.39.39.9.59 1.41.59.51 0 1.02-.2 1.41-.59l7.78-7.78 2.81-2.81c.8-.78.8-2.07 0-2.86zM5.41 20L4 18.59l7.72-7.72 1.47 1.35L5.41 20z\"/>\n",
              "  </svg>\n",
              "      </button>\n",
              "      \n",
              "  <style>\n",
              "    .colab-df-container {\n",
              "      display:flex;\n",
              "      flex-wrap:wrap;\n",
              "      gap: 12px;\n",
              "    }\n",
              "\n",
              "    .colab-df-convert {\n",
              "      background-color: #E8F0FE;\n",
              "      border: none;\n",
              "      border-radius: 50%;\n",
              "      cursor: pointer;\n",
              "      display: none;\n",
              "      fill: #1967D2;\n",
              "      height: 32px;\n",
              "      padding: 0 0 0 0;\n",
              "      width: 32px;\n",
              "    }\n",
              "\n",
              "    .colab-df-convert:hover {\n",
              "      background-color: #E2EBFA;\n",
              "      box-shadow: 0px 1px 2px rgba(60, 64, 67, 0.3), 0px 1px 3px 1px rgba(60, 64, 67, 0.15);\n",
              "      fill: #174EA6;\n",
              "    }\n",
              "\n",
              "    [theme=dark] .colab-df-convert {\n",
              "      background-color: #3B4455;\n",
              "      fill: #D2E3FC;\n",
              "    }\n",
              "\n",
              "    [theme=dark] .colab-df-convert:hover {\n",
              "      background-color: #434B5C;\n",
              "      box-shadow: 0px 1px 3px 1px rgba(0, 0, 0, 0.15);\n",
              "      filter: drop-shadow(0px 1px 2px rgba(0, 0, 0, 0.3));\n",
              "      fill: #FFFFFF;\n",
              "    }\n",
              "  </style>\n",
              "\n",
              "      <script>\n",
              "        const buttonEl =\n",
              "          document.querySelector('#df-2303e45e-9d0c-4bf8-a71e-f38a7514a80a button.colab-df-convert');\n",
              "        buttonEl.style.display =\n",
              "          google.colab.kernel.accessAllowed ? 'block' : 'none';\n",
              "\n",
              "        async function convertToInteractive(key) {\n",
              "          const element = document.querySelector('#df-2303e45e-9d0c-4bf8-a71e-f38a7514a80a');\n",
              "          const dataTable =\n",
              "            await google.colab.kernel.invokeFunction('convertToInteractive',\n",
              "                                                     [key], {});\n",
              "          if (!dataTable) return;\n",
              "\n",
              "          const docLinkHtml = 'Like what you see? Visit the ' +\n",
              "            '<a target=\"_blank\" href=https://colab.research.google.com/notebooks/data_table.ipynb>data table notebook</a>'\n",
              "            + ' to learn more about interactive tables.';\n",
              "          element.innerHTML = '';\n",
              "          dataTable['output_type'] = 'display_data';\n",
              "          await google.colab.output.renderOutput(dataTable, element);\n",
              "          const docLink = document.createElement('div');\n",
              "          docLink.innerHTML = docLinkHtml;\n",
              "          element.appendChild(docLink);\n",
              "        }\n",
              "      </script>\n",
              "    </div>\n",
              "  </div>\n",
              "  "
            ]
          },
          "metadata": {},
          "execution_count": 23
        }
      ],
      "source": [
        "df=df.drop(['math score','writing score','reading score'],axis=1)\n",
        "df.head()"
      ]
    },
    {
      "cell_type": "markdown",
      "id": "865e0172",
      "metadata": {
        "id": "865e0172"
      },
      "source": [
        "#### Converting object categorical feature into numeric categorical feature."
      ]
    },
    {
      "cell_type": "code",
      "execution_count": 24,
      "id": "277ae178",
      "metadata": {
        "execution": {
          "iopub.execute_input": "2021-05-18T08:07:02.344415Z",
          "iopub.status.busy": "2021-05-18T08:07:02.336194Z",
          "iopub.status.idle": "2021-05-18T08:07:02.351908Z",
          "shell.execute_reply": "2021-05-18T08:07:02.351217Z"
        },
        "papermill": {
          "duration": 0.153732,
          "end_time": "2021-05-18T08:07:02.352053",
          "exception": false,
          "start_time": "2021-05-18T08:07:02.198321",
          "status": "completed"
        },
        "tags": [],
        "colab": {
          "base_uri": "https://localhost:8080/",
          "height": 424
        },
        "id": "277ae178",
        "outputId": "03558842-618f-4517-aebe-70b39a85b213"
      },
      "outputs": [
        {
          "output_type": "execute_result",
          "data": {
            "text/plain": [
              "     gender race/ethnicity parental level of education  lunch  \\\n",
              "0         0        group B           bachelor's degree      1   \n",
              "1         0        group C                some college      1   \n",
              "2         0        group B             master's degree      1   \n",
              "3         1        group A          associate's degree      0   \n",
              "4         1        group C                some college      1   \n",
              "..      ...            ...                         ...    ...   \n",
              "995       0        group E             master's degree      1   \n",
              "996       1        group C                 high school      0   \n",
              "997       0        group C                 high school      0   \n",
              "998       0        group D                some college      1   \n",
              "999       0        group D                some college      0   \n",
              "\n",
              "     test preparation course  overall_score  \n",
              "0                          0            218  \n",
              "1                          1            247  \n",
              "2                          0            278  \n",
              "3                          0            148  \n",
              "4                          0            229  \n",
              "..                       ...            ...  \n",
              "995                        1            282  \n",
              "996                        0            172  \n",
              "997                        1            195  \n",
              "998                        1            223  \n",
              "999                        0            249  \n",
              "\n",
              "[1000 rows x 6 columns]"
            ],
            "text/html": [
              "\n",
              "  <div id=\"df-43ef625d-462d-44a7-bb11-06cb8211257a\">\n",
              "    <div class=\"colab-df-container\">\n",
              "      <div>\n",
              "<style scoped>\n",
              "    .dataframe tbody tr th:only-of-type {\n",
              "        vertical-align: middle;\n",
              "    }\n",
              "\n",
              "    .dataframe tbody tr th {\n",
              "        vertical-align: top;\n",
              "    }\n",
              "\n",
              "    .dataframe thead th {\n",
              "        text-align: right;\n",
              "    }\n",
              "</style>\n",
              "<table border=\"1\" class=\"dataframe\">\n",
              "  <thead>\n",
              "    <tr style=\"text-align: right;\">\n",
              "      <th></th>\n",
              "      <th>gender</th>\n",
              "      <th>race/ethnicity</th>\n",
              "      <th>parental level of education</th>\n",
              "      <th>lunch</th>\n",
              "      <th>test preparation course</th>\n",
              "      <th>overall_score</th>\n",
              "    </tr>\n",
              "  </thead>\n",
              "  <tbody>\n",
              "    <tr>\n",
              "      <th>0</th>\n",
              "      <td>0</td>\n",
              "      <td>group B</td>\n",
              "      <td>bachelor's degree</td>\n",
              "      <td>1</td>\n",
              "      <td>0</td>\n",
              "      <td>218</td>\n",
              "    </tr>\n",
              "    <tr>\n",
              "      <th>1</th>\n",
              "      <td>0</td>\n",
              "      <td>group C</td>\n",
              "      <td>some college</td>\n",
              "      <td>1</td>\n",
              "      <td>1</td>\n",
              "      <td>247</td>\n",
              "    </tr>\n",
              "    <tr>\n",
              "      <th>2</th>\n",
              "      <td>0</td>\n",
              "      <td>group B</td>\n",
              "      <td>master's degree</td>\n",
              "      <td>1</td>\n",
              "      <td>0</td>\n",
              "      <td>278</td>\n",
              "    </tr>\n",
              "    <tr>\n",
              "      <th>3</th>\n",
              "      <td>1</td>\n",
              "      <td>group A</td>\n",
              "      <td>associate's degree</td>\n",
              "      <td>0</td>\n",
              "      <td>0</td>\n",
              "      <td>148</td>\n",
              "    </tr>\n",
              "    <tr>\n",
              "      <th>4</th>\n",
              "      <td>1</td>\n",
              "      <td>group C</td>\n",
              "      <td>some college</td>\n",
              "      <td>1</td>\n",
              "      <td>0</td>\n",
              "      <td>229</td>\n",
              "    </tr>\n",
              "    <tr>\n",
              "      <th>...</th>\n",
              "      <td>...</td>\n",
              "      <td>...</td>\n",
              "      <td>...</td>\n",
              "      <td>...</td>\n",
              "      <td>...</td>\n",
              "      <td>...</td>\n",
              "    </tr>\n",
              "    <tr>\n",
              "      <th>995</th>\n",
              "      <td>0</td>\n",
              "      <td>group E</td>\n",
              "      <td>master's degree</td>\n",
              "      <td>1</td>\n",
              "      <td>1</td>\n",
              "      <td>282</td>\n",
              "    </tr>\n",
              "    <tr>\n",
              "      <th>996</th>\n",
              "      <td>1</td>\n",
              "      <td>group C</td>\n",
              "      <td>high school</td>\n",
              "      <td>0</td>\n",
              "      <td>0</td>\n",
              "      <td>172</td>\n",
              "    </tr>\n",
              "    <tr>\n",
              "      <th>997</th>\n",
              "      <td>0</td>\n",
              "      <td>group C</td>\n",
              "      <td>high school</td>\n",
              "      <td>0</td>\n",
              "      <td>1</td>\n",
              "      <td>195</td>\n",
              "    </tr>\n",
              "    <tr>\n",
              "      <th>998</th>\n",
              "      <td>0</td>\n",
              "      <td>group D</td>\n",
              "      <td>some college</td>\n",
              "      <td>1</td>\n",
              "      <td>1</td>\n",
              "      <td>223</td>\n",
              "    </tr>\n",
              "    <tr>\n",
              "      <th>999</th>\n",
              "      <td>0</td>\n",
              "      <td>group D</td>\n",
              "      <td>some college</td>\n",
              "      <td>0</td>\n",
              "      <td>0</td>\n",
              "      <td>249</td>\n",
              "    </tr>\n",
              "  </tbody>\n",
              "</table>\n",
              "<p>1000 rows × 6 columns</p>\n",
              "</div>\n",
              "      <button class=\"colab-df-convert\" onclick=\"convertToInteractive('df-43ef625d-462d-44a7-bb11-06cb8211257a')\"\n",
              "              title=\"Convert this dataframe to an interactive table.\"\n",
              "              style=\"display:none;\">\n",
              "        \n",
              "  <svg xmlns=\"http://www.w3.org/2000/svg\" height=\"24px\"viewBox=\"0 0 24 24\"\n",
              "       width=\"24px\">\n",
              "    <path d=\"M0 0h24v24H0V0z\" fill=\"none\"/>\n",
              "    <path d=\"M18.56 5.44l.94 2.06.94-2.06 2.06-.94-2.06-.94-.94-2.06-.94 2.06-2.06.94zm-11 1L8.5 8.5l.94-2.06 2.06-.94-2.06-.94L8.5 2.5l-.94 2.06-2.06.94zm10 10l.94 2.06.94-2.06 2.06-.94-2.06-.94-.94-2.06-.94 2.06-2.06.94z\"/><path d=\"M17.41 7.96l-1.37-1.37c-.4-.4-.92-.59-1.43-.59-.52 0-1.04.2-1.43.59L10.3 9.45l-7.72 7.72c-.78.78-.78 2.05 0 2.83L4 21.41c.39.39.9.59 1.41.59.51 0 1.02-.2 1.41-.59l7.78-7.78 2.81-2.81c.8-.78.8-2.07 0-2.86zM5.41 20L4 18.59l7.72-7.72 1.47 1.35L5.41 20z\"/>\n",
              "  </svg>\n",
              "      </button>\n",
              "      \n",
              "  <style>\n",
              "    .colab-df-container {\n",
              "      display:flex;\n",
              "      flex-wrap:wrap;\n",
              "      gap: 12px;\n",
              "    }\n",
              "\n",
              "    .colab-df-convert {\n",
              "      background-color: #E8F0FE;\n",
              "      border: none;\n",
              "      border-radius: 50%;\n",
              "      cursor: pointer;\n",
              "      display: none;\n",
              "      fill: #1967D2;\n",
              "      height: 32px;\n",
              "      padding: 0 0 0 0;\n",
              "      width: 32px;\n",
              "    }\n",
              "\n",
              "    .colab-df-convert:hover {\n",
              "      background-color: #E2EBFA;\n",
              "      box-shadow: 0px 1px 2px rgba(60, 64, 67, 0.3), 0px 1px 3px 1px rgba(60, 64, 67, 0.15);\n",
              "      fill: #174EA6;\n",
              "    }\n",
              "\n",
              "    [theme=dark] .colab-df-convert {\n",
              "      background-color: #3B4455;\n",
              "      fill: #D2E3FC;\n",
              "    }\n",
              "\n",
              "    [theme=dark] .colab-df-convert:hover {\n",
              "      background-color: #434B5C;\n",
              "      box-shadow: 0px 1px 3px 1px rgba(0, 0, 0, 0.15);\n",
              "      filter: drop-shadow(0px 1px 2px rgba(0, 0, 0, 0.3));\n",
              "      fill: #FFFFFF;\n",
              "    }\n",
              "  </style>\n",
              "\n",
              "      <script>\n",
              "        const buttonEl =\n",
              "          document.querySelector('#df-43ef625d-462d-44a7-bb11-06cb8211257a button.colab-df-convert');\n",
              "        buttonEl.style.display =\n",
              "          google.colab.kernel.accessAllowed ? 'block' : 'none';\n",
              "\n",
              "        async function convertToInteractive(key) {\n",
              "          const element = document.querySelector('#df-43ef625d-462d-44a7-bb11-06cb8211257a');\n",
              "          const dataTable =\n",
              "            await google.colab.kernel.invokeFunction('convertToInteractive',\n",
              "                                                     [key], {});\n",
              "          if (!dataTable) return;\n",
              "\n",
              "          const docLinkHtml = 'Like what you see? Visit the ' +\n",
              "            '<a target=\"_blank\" href=https://colab.research.google.com/notebooks/data_table.ipynb>data table notebook</a>'\n",
              "            + ' to learn more about interactive tables.';\n",
              "          element.innerHTML = '';\n",
              "          dataTable['output_type'] = 'display_data';\n",
              "          await google.colab.output.renderOutput(dataTable, element);\n",
              "          const docLink = document.createElement('div');\n",
              "          docLink.innerHTML = docLinkHtml;\n",
              "          element.appendChild(docLink);\n",
              "        }\n",
              "      </script>\n",
              "    </div>\n",
              "  </div>\n",
              "  "
            ]
          },
          "metadata": {},
          "execution_count": 24
        }
      ],
      "source": [
        "df['gender']=df['gender'].map({'female':0 , 'male':1}).astype(int)\n",
        "df['lunch']=df['lunch'].map({'standard':1 , 'free/reduced':0}).astype(int)\n",
        "df['test preparation course']=df['test preparation course'].map({'none':0 , 'completed':1}).astype(int)\n",
        "df"
      ]
    },
    {
      "cell_type": "markdown",
      "id": "8858d67c",
      "metadata": {
        "id": "8858d67c"
      },
      "source": [
        "### One Hot Encoding"
      ]
    },
    {
      "cell_type": "code",
      "execution_count": 25,
      "id": "36b3ff35",
      "metadata": {
        "execution": {
          "iopub.execute_input": "2021-05-18T08:07:02.610108Z",
          "iopub.status.busy": "2021-05-18T08:07:02.592601Z",
          "iopub.status.idle": "2021-05-18T08:07:02.615163Z",
          "shell.execute_reply": "2021-05-18T08:07:02.614593Z"
        },
        "papermill": {
          "duration": 0.143305,
          "end_time": "2021-05-18T08:07:02.615333",
          "exception": false,
          "start_time": "2021-05-18T08:07:02.472028",
          "status": "completed"
        },
        "tags": [],
        "colab": {
          "base_uri": "https://localhost:8080/",
          "height": 540
        },
        "id": "36b3ff35",
        "outputId": "8ccf9ffb-1dfd-4e6d-cdf3-6157378045fa"
      },
      "outputs": [
        {
          "output_type": "execute_result",
          "data": {
            "text/plain": [
              "     gender  lunch  test preparation course  overall_score  \\\n",
              "0         0      1                        0            218   \n",
              "1         0      1                        1            247   \n",
              "2         0      1                        0            278   \n",
              "3         1      0                        0            148   \n",
              "4         1      1                        0            229   \n",
              "..      ...    ...                      ...            ...   \n",
              "995       0      1                        1            282   \n",
              "996       1      0                        0            172   \n",
              "997       0      0                        1            195   \n",
              "998       0      1                        1            223   \n",
              "999       0      0                        0            249   \n",
              "\n",
              "     race/ethnicity_group A  race/ethnicity_group B  race/ethnicity_group C  \\\n",
              "0                         0                       1                       0   \n",
              "1                         0                       0                       1   \n",
              "2                         0                       1                       0   \n",
              "3                         1                       0                       0   \n",
              "4                         0                       0                       1   \n",
              "..                      ...                     ...                     ...   \n",
              "995                       0                       0                       0   \n",
              "996                       0                       0                       1   \n",
              "997                       0                       0                       1   \n",
              "998                       0                       0                       0   \n",
              "999                       0                       0                       0   \n",
              "\n",
              "     race/ethnicity_group D  race/ethnicity_group E  \\\n",
              "0                         0                       0   \n",
              "1                         0                       0   \n",
              "2                         0                       0   \n",
              "3                         0                       0   \n",
              "4                         0                       0   \n",
              "..                      ...                     ...   \n",
              "995                       0                       1   \n",
              "996                       0                       0   \n",
              "997                       0                       0   \n",
              "998                       1                       0   \n",
              "999                       1                       0   \n",
              "\n",
              "     parental level of education_associate's degree  \\\n",
              "0                                                 0   \n",
              "1                                                 0   \n",
              "2                                                 0   \n",
              "3                                                 1   \n",
              "4                                                 0   \n",
              "..                                              ...   \n",
              "995                                               0   \n",
              "996                                               0   \n",
              "997                                               0   \n",
              "998                                               0   \n",
              "999                                               0   \n",
              "\n",
              "     parental level of education_bachelor's degree  \\\n",
              "0                                                1   \n",
              "1                                                0   \n",
              "2                                                0   \n",
              "3                                                0   \n",
              "4                                                0   \n",
              "..                                             ...   \n",
              "995                                              0   \n",
              "996                                              0   \n",
              "997                                              0   \n",
              "998                                              0   \n",
              "999                                              0   \n",
              "\n",
              "     parental level of education_high school  \\\n",
              "0                                          0   \n",
              "1                                          0   \n",
              "2                                          0   \n",
              "3                                          0   \n",
              "4                                          0   \n",
              "..                                       ...   \n",
              "995                                        0   \n",
              "996                                        1   \n",
              "997                                        1   \n",
              "998                                        0   \n",
              "999                                        0   \n",
              "\n",
              "     parental level of education_master's degree  \\\n",
              "0                                              0   \n",
              "1                                              0   \n",
              "2                                              1   \n",
              "3                                              0   \n",
              "4                                              0   \n",
              "..                                           ...   \n",
              "995                                            1   \n",
              "996                                            0   \n",
              "997                                            0   \n",
              "998                                            0   \n",
              "999                                            0   \n",
              "\n",
              "     parental level of education_some college  \\\n",
              "0                                           0   \n",
              "1                                           1   \n",
              "2                                           0   \n",
              "3                                           0   \n",
              "4                                           1   \n",
              "..                                        ...   \n",
              "995                                         0   \n",
              "996                                         0   \n",
              "997                                         0   \n",
              "998                                         1   \n",
              "999                                         1   \n",
              "\n",
              "     parental level of education_some high school  \n",
              "0                                               0  \n",
              "1                                               0  \n",
              "2                                               0  \n",
              "3                                               0  \n",
              "4                                               0  \n",
              "..                                            ...  \n",
              "995                                             0  \n",
              "996                                             0  \n",
              "997                                             0  \n",
              "998                                             0  \n",
              "999                                             0  \n",
              "\n",
              "[1000 rows x 15 columns]"
            ],
            "text/html": [
              "\n",
              "  <div id=\"df-e075343c-a0ae-4d8a-8c44-b8ed91089fc0\">\n",
              "    <div class=\"colab-df-container\">\n",
              "      <div>\n",
              "<style scoped>\n",
              "    .dataframe tbody tr th:only-of-type {\n",
              "        vertical-align: middle;\n",
              "    }\n",
              "\n",
              "    .dataframe tbody tr th {\n",
              "        vertical-align: top;\n",
              "    }\n",
              "\n",
              "    .dataframe thead th {\n",
              "        text-align: right;\n",
              "    }\n",
              "</style>\n",
              "<table border=\"1\" class=\"dataframe\">\n",
              "  <thead>\n",
              "    <tr style=\"text-align: right;\">\n",
              "      <th></th>\n",
              "      <th>gender</th>\n",
              "      <th>lunch</th>\n",
              "      <th>test preparation course</th>\n",
              "      <th>overall_score</th>\n",
              "      <th>race/ethnicity_group A</th>\n",
              "      <th>race/ethnicity_group B</th>\n",
              "      <th>race/ethnicity_group C</th>\n",
              "      <th>race/ethnicity_group D</th>\n",
              "      <th>race/ethnicity_group E</th>\n",
              "      <th>parental level of education_associate's degree</th>\n",
              "      <th>parental level of education_bachelor's degree</th>\n",
              "      <th>parental level of education_high school</th>\n",
              "      <th>parental level of education_master's degree</th>\n",
              "      <th>parental level of education_some college</th>\n",
              "      <th>parental level of education_some high school</th>\n",
              "    </tr>\n",
              "  </thead>\n",
              "  <tbody>\n",
              "    <tr>\n",
              "      <th>0</th>\n",
              "      <td>0</td>\n",
              "      <td>1</td>\n",
              "      <td>0</td>\n",
              "      <td>218</td>\n",
              "      <td>0</td>\n",
              "      <td>1</td>\n",
              "      <td>0</td>\n",
              "      <td>0</td>\n",
              "      <td>0</td>\n",
              "      <td>0</td>\n",
              "      <td>1</td>\n",
              "      <td>0</td>\n",
              "      <td>0</td>\n",
              "      <td>0</td>\n",
              "      <td>0</td>\n",
              "    </tr>\n",
              "    <tr>\n",
              "      <th>1</th>\n",
              "      <td>0</td>\n",
              "      <td>1</td>\n",
              "      <td>1</td>\n",
              "      <td>247</td>\n",
              "      <td>0</td>\n",
              "      <td>0</td>\n",
              "      <td>1</td>\n",
              "      <td>0</td>\n",
              "      <td>0</td>\n",
              "      <td>0</td>\n",
              "      <td>0</td>\n",
              "      <td>0</td>\n",
              "      <td>0</td>\n",
              "      <td>1</td>\n",
              "      <td>0</td>\n",
              "    </tr>\n",
              "    <tr>\n",
              "      <th>2</th>\n",
              "      <td>0</td>\n",
              "      <td>1</td>\n",
              "      <td>0</td>\n",
              "      <td>278</td>\n",
              "      <td>0</td>\n",
              "      <td>1</td>\n",
              "      <td>0</td>\n",
              "      <td>0</td>\n",
              "      <td>0</td>\n",
              "      <td>0</td>\n",
              "      <td>0</td>\n",
              "      <td>0</td>\n",
              "      <td>1</td>\n",
              "      <td>0</td>\n",
              "      <td>0</td>\n",
              "    </tr>\n",
              "    <tr>\n",
              "      <th>3</th>\n",
              "      <td>1</td>\n",
              "      <td>0</td>\n",
              "      <td>0</td>\n",
              "      <td>148</td>\n",
              "      <td>1</td>\n",
              "      <td>0</td>\n",
              "      <td>0</td>\n",
              "      <td>0</td>\n",
              "      <td>0</td>\n",
              "      <td>1</td>\n",
              "      <td>0</td>\n",
              "      <td>0</td>\n",
              "      <td>0</td>\n",
              "      <td>0</td>\n",
              "      <td>0</td>\n",
              "    </tr>\n",
              "    <tr>\n",
              "      <th>4</th>\n",
              "      <td>1</td>\n",
              "      <td>1</td>\n",
              "      <td>0</td>\n",
              "      <td>229</td>\n",
              "      <td>0</td>\n",
              "      <td>0</td>\n",
              "      <td>1</td>\n",
              "      <td>0</td>\n",
              "      <td>0</td>\n",
              "      <td>0</td>\n",
              "      <td>0</td>\n",
              "      <td>0</td>\n",
              "      <td>0</td>\n",
              "      <td>1</td>\n",
              "      <td>0</td>\n",
              "    </tr>\n",
              "    <tr>\n",
              "      <th>...</th>\n",
              "      <td>...</td>\n",
              "      <td>...</td>\n",
              "      <td>...</td>\n",
              "      <td>...</td>\n",
              "      <td>...</td>\n",
              "      <td>...</td>\n",
              "      <td>...</td>\n",
              "      <td>...</td>\n",
              "      <td>...</td>\n",
              "      <td>...</td>\n",
              "      <td>...</td>\n",
              "      <td>...</td>\n",
              "      <td>...</td>\n",
              "      <td>...</td>\n",
              "      <td>...</td>\n",
              "    </tr>\n",
              "    <tr>\n",
              "      <th>995</th>\n",
              "      <td>0</td>\n",
              "      <td>1</td>\n",
              "      <td>1</td>\n",
              "      <td>282</td>\n",
              "      <td>0</td>\n",
              "      <td>0</td>\n",
              "      <td>0</td>\n",
              "      <td>0</td>\n",
              "      <td>1</td>\n",
              "      <td>0</td>\n",
              "      <td>0</td>\n",
              "      <td>0</td>\n",
              "      <td>1</td>\n",
              "      <td>0</td>\n",
              "      <td>0</td>\n",
              "    </tr>\n",
              "    <tr>\n",
              "      <th>996</th>\n",
              "      <td>1</td>\n",
              "      <td>0</td>\n",
              "      <td>0</td>\n",
              "      <td>172</td>\n",
              "      <td>0</td>\n",
              "      <td>0</td>\n",
              "      <td>1</td>\n",
              "      <td>0</td>\n",
              "      <td>0</td>\n",
              "      <td>0</td>\n",
              "      <td>0</td>\n",
              "      <td>1</td>\n",
              "      <td>0</td>\n",
              "      <td>0</td>\n",
              "      <td>0</td>\n",
              "    </tr>\n",
              "    <tr>\n",
              "      <th>997</th>\n",
              "      <td>0</td>\n",
              "      <td>0</td>\n",
              "      <td>1</td>\n",
              "      <td>195</td>\n",
              "      <td>0</td>\n",
              "      <td>0</td>\n",
              "      <td>1</td>\n",
              "      <td>0</td>\n",
              "      <td>0</td>\n",
              "      <td>0</td>\n",
              "      <td>0</td>\n",
              "      <td>1</td>\n",
              "      <td>0</td>\n",
              "      <td>0</td>\n",
              "      <td>0</td>\n",
              "    </tr>\n",
              "    <tr>\n",
              "      <th>998</th>\n",
              "      <td>0</td>\n",
              "      <td>1</td>\n",
              "      <td>1</td>\n",
              "      <td>223</td>\n",
              "      <td>0</td>\n",
              "      <td>0</td>\n",
              "      <td>0</td>\n",
              "      <td>1</td>\n",
              "      <td>0</td>\n",
              "      <td>0</td>\n",
              "      <td>0</td>\n",
              "      <td>0</td>\n",
              "      <td>0</td>\n",
              "      <td>1</td>\n",
              "      <td>0</td>\n",
              "    </tr>\n",
              "    <tr>\n",
              "      <th>999</th>\n",
              "      <td>0</td>\n",
              "      <td>0</td>\n",
              "      <td>0</td>\n",
              "      <td>249</td>\n",
              "      <td>0</td>\n",
              "      <td>0</td>\n",
              "      <td>0</td>\n",
              "      <td>1</td>\n",
              "      <td>0</td>\n",
              "      <td>0</td>\n",
              "      <td>0</td>\n",
              "      <td>0</td>\n",
              "      <td>0</td>\n",
              "      <td>1</td>\n",
              "      <td>0</td>\n",
              "    </tr>\n",
              "  </tbody>\n",
              "</table>\n",
              "<p>1000 rows × 15 columns</p>\n",
              "</div>\n",
              "      <button class=\"colab-df-convert\" onclick=\"convertToInteractive('df-e075343c-a0ae-4d8a-8c44-b8ed91089fc0')\"\n",
              "              title=\"Convert this dataframe to an interactive table.\"\n",
              "              style=\"display:none;\">\n",
              "        \n",
              "  <svg xmlns=\"http://www.w3.org/2000/svg\" height=\"24px\"viewBox=\"0 0 24 24\"\n",
              "       width=\"24px\">\n",
              "    <path d=\"M0 0h24v24H0V0z\" fill=\"none\"/>\n",
              "    <path d=\"M18.56 5.44l.94 2.06.94-2.06 2.06-.94-2.06-.94-.94-2.06-.94 2.06-2.06.94zm-11 1L8.5 8.5l.94-2.06 2.06-.94-2.06-.94L8.5 2.5l-.94 2.06-2.06.94zm10 10l.94 2.06.94-2.06 2.06-.94-2.06-.94-.94-2.06-.94 2.06-2.06.94z\"/><path d=\"M17.41 7.96l-1.37-1.37c-.4-.4-.92-.59-1.43-.59-.52 0-1.04.2-1.43.59L10.3 9.45l-7.72 7.72c-.78.78-.78 2.05 0 2.83L4 21.41c.39.39.9.59 1.41.59.51 0 1.02-.2 1.41-.59l7.78-7.78 2.81-2.81c.8-.78.8-2.07 0-2.86zM5.41 20L4 18.59l7.72-7.72 1.47 1.35L5.41 20z\"/>\n",
              "  </svg>\n",
              "      </button>\n",
              "      \n",
              "  <style>\n",
              "    .colab-df-container {\n",
              "      display:flex;\n",
              "      flex-wrap:wrap;\n",
              "      gap: 12px;\n",
              "    }\n",
              "\n",
              "    .colab-df-convert {\n",
              "      background-color: #E8F0FE;\n",
              "      border: none;\n",
              "      border-radius: 50%;\n",
              "      cursor: pointer;\n",
              "      display: none;\n",
              "      fill: #1967D2;\n",
              "      height: 32px;\n",
              "      padding: 0 0 0 0;\n",
              "      width: 32px;\n",
              "    }\n",
              "\n",
              "    .colab-df-convert:hover {\n",
              "      background-color: #E2EBFA;\n",
              "      box-shadow: 0px 1px 2px rgba(60, 64, 67, 0.3), 0px 1px 3px 1px rgba(60, 64, 67, 0.15);\n",
              "      fill: #174EA6;\n",
              "    }\n",
              "\n",
              "    [theme=dark] .colab-df-convert {\n",
              "      background-color: #3B4455;\n",
              "      fill: #D2E3FC;\n",
              "    }\n",
              "\n",
              "    [theme=dark] .colab-df-convert:hover {\n",
              "      background-color: #434B5C;\n",
              "      box-shadow: 0px 1px 3px 1px rgba(0, 0, 0, 0.15);\n",
              "      filter: drop-shadow(0px 1px 2px rgba(0, 0, 0, 0.3));\n",
              "      fill: #FFFFFF;\n",
              "    }\n",
              "  </style>\n",
              "\n",
              "      <script>\n",
              "        const buttonEl =\n",
              "          document.querySelector('#df-e075343c-a0ae-4d8a-8c44-b8ed91089fc0 button.colab-df-convert');\n",
              "        buttonEl.style.display =\n",
              "          google.colab.kernel.accessAllowed ? 'block' : 'none';\n",
              "\n",
              "        async function convertToInteractive(key) {\n",
              "          const element = document.querySelector('#df-e075343c-a0ae-4d8a-8c44-b8ed91089fc0');\n",
              "          const dataTable =\n",
              "            await google.colab.kernel.invokeFunction('convertToInteractive',\n",
              "                                                     [key], {});\n",
              "          if (!dataTable) return;\n",
              "\n",
              "          const docLinkHtml = 'Like what you see? Visit the ' +\n",
              "            '<a target=\"_blank\" href=https://colab.research.google.com/notebooks/data_table.ipynb>data table notebook</a>'\n",
              "            + ' to learn more about interactive tables.';\n",
              "          element.innerHTML = '';\n",
              "          dataTable['output_type'] = 'display_data';\n",
              "          await google.colab.output.renderOutput(dataTable, element);\n",
              "          const docLink = document.createElement('div');\n",
              "          docLink.innerHTML = docLinkHtml;\n",
              "          element.appendChild(docLink);\n",
              "        }\n",
              "      </script>\n",
              "    </div>\n",
              "  </div>\n",
              "  "
            ]
          },
          "metadata": {},
          "execution_count": 25
        }
      ],
      "source": [
        "df=pd.get_dummies(df)\n",
        "df"
      ]
    },
    {
      "cell_type": "markdown",
      "id": "c97d0ede",
      "metadata": {
        "id": "c97d0ede"
      },
      "source": [
        "### Seperating Independent and Dependent features"
      ]
    },
    {
      "cell_type": "code",
      "execution_count": 26,
      "id": "0acfaa82",
      "metadata": {
        "execution": {
          "iopub.execute_input": "2021-05-18T08:07:02.865395Z",
          "iopub.status.busy": "2021-05-18T08:07:02.853911Z",
          "iopub.status.idle": "2021-05-18T08:07:02.871021Z",
          "shell.execute_reply": "2021-05-18T08:07:02.871528Z"
        },
        "papermill": {
          "duration": 0.139186,
          "end_time": "2021-05-18T08:07:02.871722",
          "exception": false,
          "start_time": "2021-05-18T08:07:02.732536",
          "status": "completed"
        },
        "tags": [],
        "colab": {
          "base_uri": "https://localhost:8080/",
          "height": 322
        },
        "id": "0acfaa82",
        "outputId": "7f6c58b7-7ebf-4372-c9cb-be86aa7c4a4d"
      },
      "outputs": [
        {
          "output_type": "execute_result",
          "data": {
            "text/plain": [
              "   gender  lunch  test preparation course  race/ethnicity_group A  \\\n",
              "0       0      1                        0                       0   \n",
              "1       0      1                        1                       0   \n",
              "2       0      1                        0                       0   \n",
              "3       1      0                        0                       1   \n",
              "4       1      1                        0                       0   \n",
              "\n",
              "   race/ethnicity_group B  race/ethnicity_group C  race/ethnicity_group D  \\\n",
              "0                       1                       0                       0   \n",
              "1                       0                       1                       0   \n",
              "2                       1                       0                       0   \n",
              "3                       0                       0                       0   \n",
              "4                       0                       1                       0   \n",
              "\n",
              "   race/ethnicity_group E  parental level of education_associate's degree  \\\n",
              "0                       0                                               0   \n",
              "1                       0                                               0   \n",
              "2                       0                                               0   \n",
              "3                       0                                               1   \n",
              "4                       0                                               0   \n",
              "\n",
              "   parental level of education_bachelor's degree  \\\n",
              "0                                              1   \n",
              "1                                              0   \n",
              "2                                              0   \n",
              "3                                              0   \n",
              "4                                              0   \n",
              "\n",
              "   parental level of education_high school  \\\n",
              "0                                        0   \n",
              "1                                        0   \n",
              "2                                        0   \n",
              "3                                        0   \n",
              "4                                        0   \n",
              "\n",
              "   parental level of education_master's degree  \\\n",
              "0                                            0   \n",
              "1                                            0   \n",
              "2                                            1   \n",
              "3                                            0   \n",
              "4                                            0   \n",
              "\n",
              "   parental level of education_some college  \\\n",
              "0                                         0   \n",
              "1                                         1   \n",
              "2                                         0   \n",
              "3                                         0   \n",
              "4                                         1   \n",
              "\n",
              "   parental level of education_some high school  \n",
              "0                                             0  \n",
              "1                                             0  \n",
              "2                                             0  \n",
              "3                                             0  \n",
              "4                                             0  "
            ],
            "text/html": [
              "\n",
              "  <div id=\"df-6ecd0d48-4ca7-4710-9ab5-3b3ccd03a5f4\">\n",
              "    <div class=\"colab-df-container\">\n",
              "      <div>\n",
              "<style scoped>\n",
              "    .dataframe tbody tr th:only-of-type {\n",
              "        vertical-align: middle;\n",
              "    }\n",
              "\n",
              "    .dataframe tbody tr th {\n",
              "        vertical-align: top;\n",
              "    }\n",
              "\n",
              "    .dataframe thead th {\n",
              "        text-align: right;\n",
              "    }\n",
              "</style>\n",
              "<table border=\"1\" class=\"dataframe\">\n",
              "  <thead>\n",
              "    <tr style=\"text-align: right;\">\n",
              "      <th></th>\n",
              "      <th>gender</th>\n",
              "      <th>lunch</th>\n",
              "      <th>test preparation course</th>\n",
              "      <th>race/ethnicity_group A</th>\n",
              "      <th>race/ethnicity_group B</th>\n",
              "      <th>race/ethnicity_group C</th>\n",
              "      <th>race/ethnicity_group D</th>\n",
              "      <th>race/ethnicity_group E</th>\n",
              "      <th>parental level of education_associate's degree</th>\n",
              "      <th>parental level of education_bachelor's degree</th>\n",
              "      <th>parental level of education_high school</th>\n",
              "      <th>parental level of education_master's degree</th>\n",
              "      <th>parental level of education_some college</th>\n",
              "      <th>parental level of education_some high school</th>\n",
              "    </tr>\n",
              "  </thead>\n",
              "  <tbody>\n",
              "    <tr>\n",
              "      <th>0</th>\n",
              "      <td>0</td>\n",
              "      <td>1</td>\n",
              "      <td>0</td>\n",
              "      <td>0</td>\n",
              "      <td>1</td>\n",
              "      <td>0</td>\n",
              "      <td>0</td>\n",
              "      <td>0</td>\n",
              "      <td>0</td>\n",
              "      <td>1</td>\n",
              "      <td>0</td>\n",
              "      <td>0</td>\n",
              "      <td>0</td>\n",
              "      <td>0</td>\n",
              "    </tr>\n",
              "    <tr>\n",
              "      <th>1</th>\n",
              "      <td>0</td>\n",
              "      <td>1</td>\n",
              "      <td>1</td>\n",
              "      <td>0</td>\n",
              "      <td>0</td>\n",
              "      <td>1</td>\n",
              "      <td>0</td>\n",
              "      <td>0</td>\n",
              "      <td>0</td>\n",
              "      <td>0</td>\n",
              "      <td>0</td>\n",
              "      <td>0</td>\n",
              "      <td>1</td>\n",
              "      <td>0</td>\n",
              "    </tr>\n",
              "    <tr>\n",
              "      <th>2</th>\n",
              "      <td>0</td>\n",
              "      <td>1</td>\n",
              "      <td>0</td>\n",
              "      <td>0</td>\n",
              "      <td>1</td>\n",
              "      <td>0</td>\n",
              "      <td>0</td>\n",
              "      <td>0</td>\n",
              "      <td>0</td>\n",
              "      <td>0</td>\n",
              "      <td>0</td>\n",
              "      <td>1</td>\n",
              "      <td>0</td>\n",
              "      <td>0</td>\n",
              "    </tr>\n",
              "    <tr>\n",
              "      <th>3</th>\n",
              "      <td>1</td>\n",
              "      <td>0</td>\n",
              "      <td>0</td>\n",
              "      <td>1</td>\n",
              "      <td>0</td>\n",
              "      <td>0</td>\n",
              "      <td>0</td>\n",
              "      <td>0</td>\n",
              "      <td>1</td>\n",
              "      <td>0</td>\n",
              "      <td>0</td>\n",
              "      <td>0</td>\n",
              "      <td>0</td>\n",
              "      <td>0</td>\n",
              "    </tr>\n",
              "    <tr>\n",
              "      <th>4</th>\n",
              "      <td>1</td>\n",
              "      <td>1</td>\n",
              "      <td>0</td>\n",
              "      <td>0</td>\n",
              "      <td>0</td>\n",
              "      <td>1</td>\n",
              "      <td>0</td>\n",
              "      <td>0</td>\n",
              "      <td>0</td>\n",
              "      <td>0</td>\n",
              "      <td>0</td>\n",
              "      <td>0</td>\n",
              "      <td>1</td>\n",
              "      <td>0</td>\n",
              "    </tr>\n",
              "  </tbody>\n",
              "</table>\n",
              "</div>\n",
              "      <button class=\"colab-df-convert\" onclick=\"convertToInteractive('df-6ecd0d48-4ca7-4710-9ab5-3b3ccd03a5f4')\"\n",
              "              title=\"Convert this dataframe to an interactive table.\"\n",
              "              style=\"display:none;\">\n",
              "        \n",
              "  <svg xmlns=\"http://www.w3.org/2000/svg\" height=\"24px\"viewBox=\"0 0 24 24\"\n",
              "       width=\"24px\">\n",
              "    <path d=\"M0 0h24v24H0V0z\" fill=\"none\"/>\n",
              "    <path d=\"M18.56 5.44l.94 2.06.94-2.06 2.06-.94-2.06-.94-.94-2.06-.94 2.06-2.06.94zm-11 1L8.5 8.5l.94-2.06 2.06-.94-2.06-.94L8.5 2.5l-.94 2.06-2.06.94zm10 10l.94 2.06.94-2.06 2.06-.94-2.06-.94-.94-2.06-.94 2.06-2.06.94z\"/><path d=\"M17.41 7.96l-1.37-1.37c-.4-.4-.92-.59-1.43-.59-.52 0-1.04.2-1.43.59L10.3 9.45l-7.72 7.72c-.78.78-.78 2.05 0 2.83L4 21.41c.39.39.9.59 1.41.59.51 0 1.02-.2 1.41-.59l7.78-7.78 2.81-2.81c.8-.78.8-2.07 0-2.86zM5.41 20L4 18.59l7.72-7.72 1.47 1.35L5.41 20z\"/>\n",
              "  </svg>\n",
              "      </button>\n",
              "      \n",
              "  <style>\n",
              "    .colab-df-container {\n",
              "      display:flex;\n",
              "      flex-wrap:wrap;\n",
              "      gap: 12px;\n",
              "    }\n",
              "\n",
              "    .colab-df-convert {\n",
              "      background-color: #E8F0FE;\n",
              "      border: none;\n",
              "      border-radius: 50%;\n",
              "      cursor: pointer;\n",
              "      display: none;\n",
              "      fill: #1967D2;\n",
              "      height: 32px;\n",
              "      padding: 0 0 0 0;\n",
              "      width: 32px;\n",
              "    }\n",
              "\n",
              "    .colab-df-convert:hover {\n",
              "      background-color: #E2EBFA;\n",
              "      box-shadow: 0px 1px 2px rgba(60, 64, 67, 0.3), 0px 1px 3px 1px rgba(60, 64, 67, 0.15);\n",
              "      fill: #174EA6;\n",
              "    }\n",
              "\n",
              "    [theme=dark] .colab-df-convert {\n",
              "      background-color: #3B4455;\n",
              "      fill: #D2E3FC;\n",
              "    }\n",
              "\n",
              "    [theme=dark] .colab-df-convert:hover {\n",
              "      background-color: #434B5C;\n",
              "      box-shadow: 0px 1px 3px 1px rgba(0, 0, 0, 0.15);\n",
              "      filter: drop-shadow(0px 1px 2px rgba(0, 0, 0, 0.3));\n",
              "      fill: #FFFFFF;\n",
              "    }\n",
              "  </style>\n",
              "\n",
              "      <script>\n",
              "        const buttonEl =\n",
              "          document.querySelector('#df-6ecd0d48-4ca7-4710-9ab5-3b3ccd03a5f4 button.colab-df-convert');\n",
              "        buttonEl.style.display =\n",
              "          google.colab.kernel.accessAllowed ? 'block' : 'none';\n",
              "\n",
              "        async function convertToInteractive(key) {\n",
              "          const element = document.querySelector('#df-6ecd0d48-4ca7-4710-9ab5-3b3ccd03a5f4');\n",
              "          const dataTable =\n",
              "            await google.colab.kernel.invokeFunction('convertToInteractive',\n",
              "                                                     [key], {});\n",
              "          if (!dataTable) return;\n",
              "\n",
              "          const docLinkHtml = 'Like what you see? Visit the ' +\n",
              "            '<a target=\"_blank\" href=https://colab.research.google.com/notebooks/data_table.ipynb>data table notebook</a>'\n",
              "            + ' to learn more about interactive tables.';\n",
              "          element.innerHTML = '';\n",
              "          dataTable['output_type'] = 'display_data';\n",
              "          await google.colab.output.renderOutput(dataTable, element);\n",
              "          const docLink = document.createElement('div');\n",
              "          docLink.innerHTML = docLinkHtml;\n",
              "          element.appendChild(docLink);\n",
              "        }\n",
              "      </script>\n",
              "    </div>\n",
              "  </div>\n",
              "  "
            ]
          },
          "metadata": {},
          "execution_count": 26
        }
      ],
      "source": [
        "Y=df['overall_score']\n",
        "X=df.drop('overall_score',axis=1)\n",
        "X.head()"
      ]
    },
    {
      "cell_type": "markdown",
      "id": "8ec356c9",
      "metadata": {
        "id": "8ec356c9"
      },
      "source": [
        "### Importing sklearn libraries for building a ML model"
      ]
    },
    {
      "cell_type": "code",
      "execution_count": 27,
      "id": "4ffbf668",
      "metadata": {
        "execution": {
          "iopub.execute_input": "2021-05-18T08:07:00.231478Z",
          "iopub.status.busy": "2021-05-18T08:07:00.230820Z",
          "iopub.status.idle": "2021-05-18T08:07:01.592167Z",
          "shell.execute_reply": "2021-05-18T08:07:01.593094Z"
        },
        "papermill": {
          "duration": 1.493917,
          "end_time": "2021-05-18T08:07:01.593378",
          "exception": false,
          "start_time": "2021-05-18T08:07:00.099461",
          "status": "completed"
        },
        "tags": [],
        "id": "4ffbf668"
      },
      "outputs": [],
      "source": [
        "from sklearn.ensemble import RandomForestRegressor\n",
        "from sklearn.model_selection import train_test_split,cross_val_score\n",
        "from sklearn.metrics import mean_squared_error"
      ]
    },
    {
      "cell_type": "code",
      "execution_count": 28,
      "id": "c3ccd268",
      "metadata": {
        "execution": {
          "iopub.execute_input": "2021-05-18T08:07:03.109176Z",
          "iopub.status.busy": "2021-05-18T08:07:03.108339Z",
          "iopub.status.idle": "2021-05-18T08:07:03.111768Z",
          "shell.execute_reply": "2021-05-18T08:07:03.112345Z"
        },
        "papermill": {
          "duration": 0.127259,
          "end_time": "2021-05-18T08:07:03.112537",
          "exception": false,
          "start_time": "2021-05-18T08:07:02.985278",
          "status": "completed"
        },
        "tags": [],
        "id": "c3ccd268"
      },
      "outputs": [],
      "source": [
        "#SPLITTING\n",
        "x_train,x_test,y_train,y_test=train_test_split(X,Y,test_size=0.2,random_state=42)"
      ]
    },
    {
      "cell_type": "code",
      "execution_count": 29,
      "id": "baacb06b",
      "metadata": {
        "execution": {
          "iopub.execute_input": "2021-05-18T08:07:03.358877Z",
          "iopub.status.busy": "2021-05-18T08:07:03.358163Z",
          "iopub.status.idle": "2021-05-18T08:07:03.613422Z",
          "shell.execute_reply": "2021-05-18T08:07:03.612678Z"
        },
        "papermill": {
          "duration": 0.379104,
          "end_time": "2021-05-18T08:07:03.613568",
          "exception": false,
          "start_time": "2021-05-18T08:07:03.234464",
          "status": "completed"
        },
        "tags": [],
        "colab": {
          "base_uri": "https://localhost:8080/"
        },
        "id": "baacb06b",
        "outputId": "515245d4-733f-445a-c1f9-0b0442464703"
      },
      "outputs": [
        {
          "output_type": "execute_result",
          "data": {
            "text/plain": [
              "RandomForestRegressor()"
            ]
          },
          "metadata": {},
          "execution_count": 29
        }
      ],
      "source": [
        "#MODEL\n",
        "model=RandomForestRegressor()\n",
        "model.fit(x_train,y_train)\n",
        "    "
      ]
    },
    {
      "cell_type": "code",
      "execution_count": 30,
      "id": "e85a4aff",
      "metadata": {
        "id": "e85a4aff"
      },
      "outputs": [],
      "source": [
        "y_pred = model.predict(x_test)"
      ]
    },
    {
      "cell_type": "markdown",
      "id": "1468de24",
      "metadata": {
        "id": "1468de24"
      },
      "source": [
        "### Evaluation and Feature Importance"
      ]
    },
    {
      "cell_type": "code",
      "execution_count": 31,
      "id": "5a150446",
      "metadata": {
        "colab": {
          "base_uri": "https://localhost:8080/"
        },
        "id": "5a150446",
        "outputId": "26458790-b818-4d71-b3fd-101aac056b8c"
      },
      "outputs": [
        {
          "output_type": "stream",
          "name": "stdout",
          "text": [
            "RMSE:  44.526154317252\n"
          ]
        }
      ],
      "source": [
        "print('RMSE: ', mean_squared_error(y_test, y_pred, squared=False))"
      ]
    },
    {
      "cell_type": "code",
      "execution_count": 32,
      "id": "82fbec81",
      "metadata": {
        "_kg_hide-input": true,
        "execution": {
          "iopub.execute_input": "2021-05-18T08:07:04.106239Z",
          "iopub.status.busy": "2021-05-18T08:07:04.105175Z",
          "iopub.status.idle": "2021-05-18T08:07:04.465824Z",
          "shell.execute_reply": "2021-05-18T08:07:04.465228Z"
        },
        "papermill": {
          "duration": 0.493634,
          "end_time": "2021-05-18T08:07:04.465985",
          "exception": false,
          "start_time": "2021-05-18T08:07:03.972351",
          "status": "completed"
        },
        "tags": [],
        "colab": {
          "base_uri": "https://localhost:8080/",
          "height": 497
        },
        "id": "82fbec81",
        "outputId": "314f4c45-c8d8-49ab-f67e-dbb4a20c372b"
      },
      "outputs": [
        {
          "output_type": "display_data",
          "data": {
            "text/plain": [
              "<Figure size 720x576 with 1 Axes>"
            ],
            "image/png": "[encoded data removed]"
          },
          "metadata": {
            "needs_background": "light"
          }
        }
      ],
      "source": [
        "feature_importance = np.array(model.feature_importances_)\n",
        "feature_names = np.array(x_train.columns)\n",
        "data={'feature_names':feature_names,'feature_importance':feature_importance}\n",
        "df_plt = pd.DataFrame(data)\n",
        "df_plt.sort_values(by=['feature_importance'], ascending=False,inplace=True)\n",
        "plt.figure(figsize=(10,8))\n",
        "sns.barplot(x=df_plt['feature_importance'], y=df_plt['feature_names'])\n",
        "plt.xlabel('FEATURE IMPORTANCE')\n",
        "plt.ylabel('FEATURE NAMES')\n",
        "plt.show()"
      ]
    },
    {
      "cell_type": "code",
      "execution_count": 32,
      "id": "a35b02c3",
      "metadata": {
        "id": "a35b02c3"
      },
      "outputs": [],
      "source": [
        ""
      ]
    }
  ],
  "metadata": {
    "kernelspec": {
      "display_name": "Python 3",
      "language": "python",
      "name": "python3"
    },
    "language_info": {
      "codemirror_mode": {
        "name": "ipython",
        "version": 3
      },
      "file_extension": ".py",
      "mimetype": "text/x-python",
      "name": "python",
      "nbconvert_exporter": "python",
      "pygments_lexer": "ipython3",
      "version": "3.8.8"
    },
    "papermill": {
      "default_parameters": {},
      "duration": 44.101023,
      "end_time": "2021-05-18T08:07:06.926929",
      "environment_variables": {},
      "exception": null,
      "input_path": "__notebook__.ipynb",
      "output_path": "__notebook__.ipynb",
      "parameters": {},
      "start_time": "2021-05-18T08:06:22.825906",
      "version": "2.3.3"
    },
    "colab": {
      "name": "notebook.ipynb",
      "provenance": [],
      "include_colab_link": true
    }
  },
  "nbformat": 4,
  "nbformat_minor": 5
}